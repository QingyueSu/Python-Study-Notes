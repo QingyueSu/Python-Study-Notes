{
 "cells": [
  {
   "cell_type": "markdown",
   "metadata": {},
   "source": [
    "<h1 align=\"center\"><font size=\"5\"> Python Study Notes - 2</font></h1>\n",
    "<h1 align=\"center\"><font size=\"3\"> by Sue </font></h1>"
   ]
  },
  {
   "cell_type": "markdown",
   "metadata": {},
   "source": [
    "<h1 align=\"left\"><font size=\"3\">README  </font></h1>\n",
    "\n",
    "In this series of notebooks, I will summarize all the information I find useful when I was studying Python. I will display the contents from the most basic part to the most difficult part according to my understanding. \n",
    "\n",
    "This notebook is the second one, which is the basic introduction of data structures of Python."
   ]
  },
  {
   "cell_type": "markdown",
   "metadata": {},
   "source": [
    "<h1>Table of contents</h1>\n",
    "\n",
    "<div class=\"alert alert-block alert-info\" style=\"margin-top: 20px\">\n",
    "    <ul>\n",
    "        <li><a id=\"#Part6\">Part 6. Data Structures</a></li>\n",
    "            <ul>\n",
    "                <li><a id=\"#Part6_1\">1. list</a></li>\n",
    "                    <ul>\n",
    "                        <li><a id=\"#Part6_1_1\">(1) Using \"for\" loop to print out</a></li>\n",
    "                        <li><a id=\"#Part6_1_2\">(2) Using index to locate</a></li>\n",
    "                        <li><a id=\"#Part6_1_3\">(3) Some functions applied to list</a></li>\n",
    "                            <ul>\n",
    "                                <li><a id=\"#Part6_1_3_1\">1) type(list)</a></li>\n",
    "                                <li><a id=\"#Part6_1_3_2\">2) len(list)</a></li>\n",
    "                                <li><a id=\"#Part6_1_3_3\">3) list.append() & list.extend()</a></li>\n",
    "                                <li><a id=\"#Part6_1_3_4\">4) list.insert(number, x)</a></li>\n",
    "                                <li><a id=\"#Part6_1_3_5\">5) list.index(x[, start[, end]])</a></li>\n",
    "                                <li><a id=\"#Part6_1_3_6\">6) list.count(x)</a></li>\n",
    "                                <li><a id=\"#Part6_1_3_7\">7) list.sort()</a></li>\n",
    "                                <li><a id=\"#Part6_1_3_8\">8) list.reverse()</a></li>\n",
    "                                <li><a id=\"#Part6_1_3_9\">9) del list[index]</a></li>\n",
    "                                <li><a id=\"#Part6_1_3_10\">10) list.remove(x)</a></li>\n",
    "                                <li><a id=\"#Part6_1_3_11\">11) list.pop([index])</a></li>\n",
    "                                <li><a id=\"#Part6_1_3_12\">12) list.clear()</a></li>\n",
    "                                <li><a id=\"#Part6_1_3_13\">13) list.copy()</a></li>\n",
    "                            </ul>\n",
    "                        <li><a id=\"#Part6_1_4\">(4) List Comprehensions</a></li>\n",
    "                            <ul>\n",
    "                                <li><a id=\"#Part6_1_4_1\">1) type(list)</a></li>\n",
    "                                <li><a id=\"#Part6_1_4_2\">2) len(list)</a></li>\n",
    "                            </ul>\n",
    "                        <li><a id=\"#Part6_1_5\">(5) Nested List Comprehensions</a></li>\n",
    "                            <ul>\n",
    "                                <li><a id=\"#Part6_1_5_1\">1) type(list)</a></li>\n",
    "                                <li><a id=\"#Part6_1_5_2\">2) len(list)</a></li>\n",
    "                            </ul>\n",
    "                    </ul>\n",
    "                <li><a id=\"#Part6_2\">2. tuple</a></li>\n",
    "                    <ul>\n",
    "                        <li><a id=\"#Part6_2_1\">(1) Using \"for\" loop to print out</a></li>\n",
    "                        <li><a id=\"#Part6_2_2\">(2) Using index to locate</a></li>\n",
    "                        <li><a id=\"#Part6_2_3\">(3) Some functions applied to tuple</a></li>\n",
    "                            <ul>\n",
    "                                <li><a id=\"#Part6_2_3_1\">1) type(tuple)</a></li>\n",
    "                                <li><a id=\"#Part6_2_3_2\">2) len(tuple)</a></li>\n",
    "                            </ul>\n",
    "                    </ul>\n",
    "                <li><a id=\"#Part6_3\">3. set</a></li>\n",
    "                    <ul>\n",
    "                        <li><a id=\"#Part6_3_1\">(1) Using \"for\" loop to print out</a></li>\n",
    "                        <li><a id=\"#Part6_3_2\">(2) Using \"in\" to check the value</a></li>\n",
    "                        <li><a id=\"#Part6_3_3\">(3) Cannot use index to locate</a></li>\n",
    "                        <li><a id=\"#Part6_3_4\">(4) Some functions applied to set</a></li>\n",
    "                            <ul>\n",
    "                                <li><a id=\"#Part6_3_4_1\">1) type(set)</a></li>\n",
    "                                <li><a id=\"#Part6_3_4_2\">2) set.copy()</a></li>\n",
    "                                <li><a id=\"#Part6_3_4_1\">3) set.add()</a></li>\n",
    "                                <li><a id=\"#Part6_3_4_2\">4) set.issuperset(set)</a></li>\n",
    "                                <li><a id=\"#Part6_3_4_1\">5) set.remove()</a></li>\n",
    "                            </ul>\n",
    "                    </ul>\n",
    "                <li><a id=\"#Part6_4\">4. dictionary</a></li>\n",
    "                    <ul>\n",
    "                        <li><a id=\"#Part6_4_1\">(1) Using \"for\" loop to print out both key and value</a></li>\n",
    "                        <li><a id=\"#Part6_4_2\">(2) Using keys to locate values</a></li>\n",
    "                        <li><a id=\"#Part6_4_3\">(3) Some functions applied to dictionary</a></li>\n",
    "                            <ul>\n",
    "                                <li><a id=\"#Part6_4_3_1\">1) type(dictionary)</a></li>\n",
    "                                <li><a id=\"#Part6_4_3_2\">2) len(dictionary)</a></li>\n",
    "                                <li><a id=\"#Part6_4_3_3\">3) add an item</a></li>\n",
    "                                <li><a id=\"#Part6_4_3_4\">4) delete an item</a></li>\n",
    "                            </ul>\n",
    "                    </ul>\n",
    "                <li><a id=\"#Part6_5\">5. Summary</a></li>\n",
    "                    <ul>\n",
    "                        <li><a id=\"#Part6_5_1\">(1) Sequence (list, tuple & string)</a></li>\n",
    "                            <ul>\n",
    "                                <li><a id=\"#Part6_5_1_1\">1) Introduction</a></li>\n",
    "                                <li><a id=\"#Part6_5_1_2\">2) Functions applied to sequence</a></li>\n",
    "                                    <ul>\n",
    "                                        <li><a id=\"#Part6_5_1_2_1\">a) Indexing</a></li>\n",
    "                                        <li><a id=\"#Part6_5_1_2_2\">b) Slicing</a></li>\n",
    "                                            <ul>\n",
    "                                                <li><a id=\"#Part6_5_1_2_2_1\">i) common slice</a></li>\n",
    "                                                <li><a id=\"#Part6_5_1_2_2_2\">ii) slice with omitting</a></li>\n",
    "                                                <li><a id=\"#Part6_5_1_2_2_3\">iii) slice with steps</a></li>\n",
    "                                                <li><a id=\"#Part6_5_1_2_2_4\">iv) slice with two different indexing approaches</a></li>\n",
    "                                            </ul>\n",
    "                                    </ul>\n",
    "                            </ul>\n",
    "                        <li><a id=\"#Part6_5_2\">(2) Reference</a></li>\n",
    "                            <ul>\n",
    "                                <li><a id=\"#Part6_5_2_1\">1) Direct Reference</a></li>\n",
    "                                    <ul>\n",
    "                                        <li><a id=\"#Part6_5_2_1_1\">a) operate on the original value</a></li>\n",
    "                                        <li><a id=\"#Part6_5_2_1_2\">b) operate on the refered value</a></li>\n",
    "                                    </ul>\n",
    "                                <li><a id=\"#Part6_5_2_2\">2) Indirect Reference</a></li>\n",
    "                                    <ul>\n",
    "                                        <li><a id=\"#Part6_5_2_2_1\">a) operate on the original value</a></li>\n",
    "                                        <li><a id=\"#Part6_5_2_2_2\">b) operate on the generated new value</a></li>\n",
    "                                    </ul>\n",
    "                            </ul>\n",
    "                        <li><a id=\"#Part6_5_3\">(3) Functions applied to \"string\" object</a></li>\n",
    "                            <ul>\n",
    "                                <li><a id=\"#Part6_5_3_1\">1) string in string</a></li>\n",
    "                                <li><a id=\"#Part6_5_3_2\">2) string.startswith()</a></li>\n",
    "                                <li><a id=\"#Part6_5_3_3\">3) string.find()</a></li>\n",
    "                                <li><a id=\"#Part6_5_3_4\">4) string.join()</a></li>\n",
    "                            </ul>\n",
    "                    </ul>\n",
    "            </ul>\n",
    "    </ul>\n",
    "</div>\n",
    "<br>\n",
    "<hr>"
   ]
  },
  {
   "cell_type": "markdown",
   "metadata": {},
   "source": [
    "<h2 id=\"#Part6\">Part 6. Data Structures</h2>\n",
    "<hr>"
   ]
  },
  {
   "cell_type": "markdown",
   "metadata": {},
   "source": [
    "Python has four inner data structures, which are respectively **list**, **tuple**, **dictionary**, and **set**.\n",
    "\n",
    "**Notes:**  \n",
    "* 1). list: use '[]', mutable\n",
    "* 2). tuple: use '()', immutable\n",
    "* 3). dictionary: use '{}', but use ':' to seperate items\n",
    "* 4). set: use '{}', but just use ',' to seperate items "
   ]
  },
  {
   "cell_type": "markdown",
   "metadata": {},
   "source": [
    "<h3 id=\"#Part6_1\">1. list</h3>"
   ]
  },
  {
   "cell_type": "markdown",
   "metadata": {},
   "source": [
    "* List: \n",
    "    * can contain different types of variables simutaneously\n",
    "    * use '[ ]' to represent\n",
    "    * use ',' as seperator\n",
    "    * Elements inside are mutable (can be deleted or added)"
   ]
  },
  {
   "cell_type": "code",
   "execution_count": 130,
   "metadata": {},
   "outputs": [],
   "source": [
    "shoplist = ['apple', 'mango', 'carrot', 'banana']"
   ]
  },
  {
   "cell_type": "markdown",
   "metadata": {},
   "source": [
    "<h4 id=\"#Part6_1_1\">(1) Using \"for\" loop to print out</h4>"
   ]
  },
  {
   "cell_type": "code",
   "execution_count": 131,
   "metadata": {},
   "outputs": [
    {
     "name": "stdout",
     "output_type": "stream",
     "text": [
      "apple mango carrot banana "
     ]
    }
   ],
   "source": [
    "for item in shoplist:\n",
    "    print(item, end = ' ')"
   ]
  },
  {
   "cell_type": "markdown",
   "metadata": {},
   "source": [
    "<h4 id=\"#Part6_1_2\">(2) Using index to locate</h4>"
   ]
  },
  {
   "cell_type": "markdown",
   "metadata": {},
   "source": [
    "**Notes:** \n",
    "* From left to right: 0, 1, 2, 3, 4, ... (Python starts from 0)\n",
    "* From right to left: -1, -2, -3, -4, ...                      "
   ]
  },
  {
   "cell_type": "code",
   "execution_count": 132,
   "metadata": {},
   "outputs": [
    {
     "name": "stdout",
     "output_type": "stream",
     "text": [
      "apple\n",
      "banana\n"
     ]
    }
   ],
   "source": [
    "print(shoplist[0])\n",
    "\n",
    "print(shoplist[-1])"
   ]
  },
  {
   "cell_type": "markdown",
   "metadata": {},
   "source": [
    "<h4 id=\"#Part6_1_3\">(3) Some functions applied to list</h4>"
   ]
  },
  {
   "cell_type": "markdown",
   "metadata": {},
   "source": [
    "<h5 id=\"#Part6_1_3_1\">1) type(list)</h5>"
   ]
  },
  {
   "cell_type": "code",
   "execution_count": 133,
   "metadata": {},
   "outputs": [
    {
     "name": "stdout",
     "output_type": "stream",
     "text": [
      "<class 'list'>\n"
     ]
    }
   ],
   "source": [
    "print(type(shoplist))"
   ]
  },
  {
   "cell_type": "markdown",
   "metadata": {},
   "source": [
    "<h5 id=\"#Part6_1_3_2\">2) len(list)</h5>"
   ]
  },
  {
   "cell_type": "code",
   "execution_count": 134,
   "metadata": {},
   "outputs": [
    {
     "name": "stdout",
     "output_type": "stream",
     "text": [
      "4\n",
      "5\n"
     ]
    }
   ],
   "source": [
    "print(len(shoplist))\n",
    "\n",
    "print(len(shoplist[0]))"
   ]
  },
  {
   "cell_type": "markdown",
   "metadata": {},
   "source": [
    "<h5 id=\"#Part6_1_3_3\">3) list.append() & list.extend()</h5>"
   ]
  },
  {
   "cell_type": "code",
   "execution_count": 135,
   "metadata": {},
   "outputs": [
    {
     "name": "stdout",
     "output_type": "stream",
     "text": [
      "['apple', 'mango', 'carrot', 'banana', ['rice', 'milk']]\n",
      "['apple', 'mango', 'carrot', 'banana', 'rice', 'milk']\n"
     ]
    }
   ],
   "source": [
    "shoplist = ['apple', 'mango', 'carrot', 'banana']\n",
    "list_new = ['rice', 'milk']\n",
    "\n",
    "shoplist.append(list_new)\n",
    "print(shoplist)\n",
    "\n",
    "shoplist = ['apple', 'mango', 'carrot', 'banana']\n",
    "shoplist.extend(list_new)\n",
    "print(shoplist)"
   ]
  },
  {
   "cell_type": "markdown",
   "metadata": {},
   "source": [
    "<blockquote>\n",
    "\n",
    "**Note:**\n",
    "\n",
    "Here, we have to notice that we **cannot print list.append() or list.extend() directly**. Since it means one action, it will **return 'None'** if this action is completed successfully, which is shown below.\n",
    "</blockquote>"
   ]
  },
  {
   "cell_type": "code",
   "execution_count": 136,
   "metadata": {},
   "outputs": [
    {
     "name": "stdout",
     "output_type": "stream",
     "text": [
      "None\n",
      "None\n"
     ]
    }
   ],
   "source": [
    "shoplist = ['apple', 'mango', 'carrot', 'banana']\n",
    "list_new = ['rice', 'milk']\n",
    "\n",
    "print(shoplist.append(list_new))\n",
    "\n",
    "shoplist = ['apple', 'mango', 'carrot', 'banana']\n",
    "print(shoplist.extend(list_new))"
   ]
  },
  {
   "cell_type": "markdown",
   "metadata": {},
   "source": [
    "<h5 id=\"#Part6_1_3_4\">4) list.insert(number, x)</h5>"
   ]
  },
  {
   "cell_type": "markdown",
   "metadata": {},
   "source": [
    "* a.insert(0, x) inserts at the front of the list\n",
    "* a.insert(len(a), x) is equivalent to a.append(x)"
   ]
  },
  {
   "cell_type": "code",
   "execution_count": 137,
   "metadata": {},
   "outputs": [
    {
     "name": "stdout",
     "output_type": "stream",
     "text": [
      "['pineapple', 'apple', 'mango', 'carrot', 'banana', 'watermelon']\n"
     ]
    }
   ],
   "source": [
    "shoplist = ['apple', 'mango', 'carrot', 'banana']\n",
    "\n",
    "shoplist.insert(0, 'pineapple')  # insert 'pineapple' at the position 0\n",
    "shoplist.insert(len(shoplist), 'watermelon')   # insert 'watermelon' at the position len(shoplist)\n",
    "# the last element in list has the index as \"len(list)-1\" (start from 0)\n",
    "\n",
    "print(shoplist)"
   ]
  },
  {
   "cell_type": "markdown",
   "metadata": {},
   "source": [
    "<h5 id=\"#Part6_1_3_5\">5) list.index(x[, start[, end]])</h5>"
   ]
  },
  {
   "cell_type": "code",
   "execution_count": 138,
   "metadata": {},
   "outputs": [
    {
     "name": "stdout",
     "output_type": "stream",
     "text": [
      "3\n",
      "6\n"
     ]
    }
   ],
   "source": [
    "fruits = ['orange', 'apple', 'pear', 'banana', 'kiwi', 'apple', 'banana']\n",
    "\n",
    "print(fruits.index('banana'))\n",
    "\n",
    "print(fruits.index('banana', 4))  # Find next banana starting a position 4"
   ]
  },
  {
   "cell_type": "markdown",
   "metadata": {},
   "source": [
    "<h5 id=\"#Part6_1_3_6\">6) list.count(x)</h5>"
   ]
  },
  {
   "cell_type": "markdown",
   "metadata": {},
   "source": [
    "* list.count(x): Return the number of times x appears in the list."
   ]
  },
  {
   "cell_type": "code",
   "execution_count": 139,
   "metadata": {},
   "outputs": [
    {
     "name": "stdout",
     "output_type": "stream",
     "text": [
      "0\n",
      "2\n"
     ]
    }
   ],
   "source": [
    "fruits = ['orange', 'apple', 'pear', 'banana', 'kiwi', 'apple', 'banana']\n",
    "\n",
    "print(fruits.count('tangerine'))\n",
    "\n",
    "print(fruits.count('apple'))"
   ]
  },
  {
   "cell_type": "markdown",
   "metadata": {},
   "source": [
    "<h5 id=\"#Part6_1_3_7\">7) list.sort()</h5>"
   ]
  },
  {
   "cell_type": "markdown",
   "metadata": {},
   "source": [
    "* **list.sort(*, key=None, reverse=False):** Sort the items of the list in place (the arguments can be used for sort customization, see sorted() for their explanation)."
   ]
  },
  {
   "cell_type": "code",
   "execution_count": 74,
   "metadata": {},
   "outputs": [
    {
     "name": "stdout",
     "output_type": "stream",
     "text": [
      "['apple', 'banana', 'carrot', 'mango']\n"
     ]
    }
   ],
   "source": [
    "shoplist = ['apple', 'mango', 'carrot', 'banana']\n",
    "\n",
    "shoplist.sort()\n",
    "print(shoplist)"
   ]
  },
  {
   "cell_type": "markdown",
   "metadata": {},
   "source": [
    "<blockquote>\n",
    "\n",
    "**Note:**\n",
    "\n",
    "Here is the same, we **cannot print list.sort() directly**. Since it means one action, it will **return 'None'** if this action is completed successfully, which is shown below.\n",
    "</blockquote>"
   ]
  },
  {
   "cell_type": "code",
   "execution_count": 75,
   "metadata": {},
   "outputs": [
    {
     "name": "stdout",
     "output_type": "stream",
     "text": [
      "None\n"
     ]
    }
   ],
   "source": [
    "print(shoplist.sort())"
   ]
  },
  {
   "cell_type": "markdown",
   "metadata": {},
   "source": [
    "<h5 id=\"#Part6_1_3_8\">8) list.reverse()</h5>"
   ]
  },
  {
   "cell_type": "markdown",
   "metadata": {},
   "source": [
    "* **list.reverse():** Reverse the elements of the list in place.\n",
    "\n",
    "* Note: It is a little bit different from 'sort(reverse=True)', since it is based on the original order rather than alphabetic order."
   ]
  },
  {
   "cell_type": "code",
   "execution_count": 76,
   "metadata": {},
   "outputs": [
    {
     "name": "stdout",
     "output_type": "stream",
     "text": [
      "['banana', 'carrot', 'mango', 'apple']\n"
     ]
    }
   ],
   "source": [
    "shoplist = ['apple', 'mango', 'carrot', 'banana']\n",
    "\n",
    "shoplist.reverse()\n",
    "print(shoplist)"
   ]
  },
  {
   "cell_type": "markdown",
   "metadata": {},
   "source": [
    "<h5 id=\"#Part6_1_3_9\">9) del list[index]</h5>"
   ]
  },
  {
   "cell_type": "code",
   "execution_count": 77,
   "metadata": {},
   "outputs": [
    {
     "name": "stdout",
     "output_type": "stream",
     "text": [
      "['banana', 'carrot', 'mango', 'apple']\n",
      "['carrot', 'mango', 'apple']\n"
     ]
    }
   ],
   "source": [
    "print(shoplist)\n",
    "\n",
    "del shoplist[0] \n",
    "print(shoplist)"
   ]
  },
  {
   "cell_type": "markdown",
   "metadata": {},
   "source": [
    "<h5 id=\"#Part6_1_3_10\">10) list.remove(x)</h5>"
   ]
  },
  {
   "cell_type": "markdown",
   "metadata": {},
   "source": [
    "* **list.remove(x):** Remove the first item from the list whose value is equal to x. It raises a ValueError if there is no such item."
   ]
  },
  {
   "cell_type": "code",
   "execution_count": 78,
   "metadata": {},
   "outputs": [
    {
     "name": "stdout",
     "output_type": "stream",
     "text": [
      "['orange', 'pear', 'banana', 'kiwi', 'apple', 'banana']\n"
     ]
    }
   ],
   "source": [
    "fruits = ['orange', 'apple', 'pear', 'banana', 'kiwi', 'apple', 'banana']\n",
    "\n",
    "fruits.remove('apple')\n",
    "\n",
    "print(fruits)  # remove the first one"
   ]
  },
  {
   "cell_type": "markdown",
   "metadata": {},
   "source": [
    "<h5 id=\"#Part6_1_3_11\">11) list.pop([index])</h5>"
   ]
  },
  {
   "cell_type": "markdown",
   "metadata": {},
   "source": [
    "* **list.pop([i]):** Remove the item at the given position in the list, and return it. If no index is specified, a.pop() removes and returns the last item in the list. (The square brackets around the i in the method signature denote that the parameter is optional, not that you should type square brackets at that position. You will see this notation frequently in the Python Library Reference.)"
   ]
  },
  {
   "cell_type": "code",
   "execution_count": 79,
   "metadata": {},
   "outputs": [
    {
     "name": "stdout",
     "output_type": "stream",
     "text": [
      "banana\n",
      "['orange', 'apple', 'pear', 'banana', 'kiwi', 'apple']\n"
     ]
    }
   ],
   "source": [
    "fruits = ['orange', 'apple', 'pear', 'banana', 'kiwi', 'apple', 'banana']\n",
    "\n",
    "print(fruits.pop())\n",
    "\n",
    "print(fruits)  # remove the last one"
   ]
  },
  {
   "cell_type": "markdown",
   "metadata": {},
   "source": [
    "<h5 id=\"#Part6_1_3_12\">12) list.clear()</h5>"
   ]
  },
  {
   "cell_type": "markdown",
   "metadata": {},
   "source": [
    "* **list.clear():** Remove all items from the list. Equivalent to del a[:]."
   ]
  },
  {
   "cell_type": "code",
   "execution_count": 80,
   "metadata": {},
   "outputs": [
    {
     "name": "stdout",
     "output_type": "stream",
     "text": [
      "None\n",
      "[]\n"
     ]
    }
   ],
   "source": [
    "fruits = ['orange', 'apple', 'pear', 'banana', 'kiwi', 'apple', 'banana']\n",
    "\n",
    "print(fruits.clear())  # since it's also an action, so when it is done, it shows 'None'\n",
    "\n",
    "print(fruits) "
   ]
  },
  {
   "cell_type": "markdown",
   "metadata": {},
   "source": [
    "<h5 id=\"#Part6_1_3_13\">13) list.copy()</h5>"
   ]
  },
  {
   "cell_type": "markdown",
   "metadata": {},
   "source": [
    "* **list.copy():** Return a shallow copy of the list. Equivalent to a[:]."
   ]
  },
  {
   "cell_type": "code",
   "execution_count": 140,
   "metadata": {},
   "outputs": [
    {
     "name": "stdout",
     "output_type": "stream",
     "text": [
      "['orange', 'apple', 'pear', 'banana', 'kiwi', 'apple', 'banana']\n"
     ]
    }
   ],
   "source": [
    "fruits = ['orange', 'apple', 'pear', 'banana', 'kiwi', 'apple', 'banana']\n",
    "\n",
    "fruits_new = fruits.copy() \n",
    "\n",
    "print(fruits_new) "
   ]
  },
  {
   "cell_type": "markdown",
   "metadata": {},
   "source": [
    "<h4 id=\"#Part6_1_4\">(4) List Comprehensions</h4>"
   ]
  },
  {
   "cell_type": "markdown",
   "metadata": {},
   "source": [
    "* **List comprehensions:** It provide a concise way to create lists. Common applications are to make new lists where each element is the result of some operations applied to each member of another sequence or iterable, or to create a subsequence of those elements that satisfy a certain condition."
   ]
  },
  {
   "cell_type": "markdown",
   "metadata": {},
   "source": [
    "<h5 id=\"#Part6_1_4_1\">1) combine the 'for' loop or 'if' loop in the list with the function of one variable</h5>"
   ]
  },
  {
   "cell_type": "markdown",
   "metadata": {},
   "source": [
    "For example, assume we want to create a list of squares, normally we will use for loop like the following code:"
   ]
  },
  {
   "cell_type": "code",
   "execution_count": 82,
   "metadata": {},
   "outputs": [
    {
     "name": "stdout",
     "output_type": "stream",
     "text": [
      "[0, 1, 4, 9, 16, 25, 36, 49, 64, 81]\n"
     ]
    }
   ],
   "source": [
    "squares = []\n",
    "\n",
    "for x in range(10):\n",
    "    squares.append(x**2)\n",
    "\n",
    "print(squares)"
   ]
  },
  {
   "cell_type": "markdown",
   "metadata": {},
   "source": [
    "In this method, we can combine the 'for' loop or 'if' loop in the list to make this process easier, which is shown below."
   ]
  },
  {
   "cell_type": "code",
   "execution_count": 88,
   "metadata": {},
   "outputs": [
    {
     "name": "stdout",
     "output_type": "stream",
     "text": [
      "[0, 1, 4, 9, 16, 25, 36, 49, 64, 81]\n"
     ]
    }
   ],
   "source": [
    "squares = [x**2 for x in range(10)]\n",
    "\n",
    "print(squares)"
   ]
  },
  {
   "cell_type": "code",
   "execution_count": 89,
   "metadata": {},
   "outputs": [
    {
     "name": "stdout",
     "output_type": "stream",
     "text": [
      "[0, 1, 4, 9, 16, 25, 36, 49, 64, 81]\n",
      "[16, 25, 36, 49, 64, 81]\n"
     ]
    }
   ],
   "source": [
    "print(squares)\n",
    "\n",
    "squares_new = [x for x in squares if x >= 10]\n",
    "\n",
    "print(squares_new)"
   ]
  },
  {
   "cell_type": "markdown",
   "metadata": {},
   "source": [
    "<blockquote>\n",
    "\n",
    "Here we can tell that $x^2$ is literally a function of x. In this case, actually we can apply all different kinds of functions of x in this list. I display some examples below.\n",
    "\n",
    "</blockquote>"
   ]
  },
  {
   "cell_type": "code",
   "execution_count": 92,
   "metadata": {},
   "outputs": [
    {
     "name": "stdout",
     "output_type": "stream",
     "text": [
      "[0, 1, 4, 9, 16, 25, 36, 49, 64, 81]\n",
      "[0.0, 1.0, 2.0, 3.0, 4.0, 5.0, 6.0, 7.0, 8.0, 9.0]\n"
     ]
    }
   ],
   "source": [
    "import math\n",
    "\n",
    "print(squares)\n",
    "\n",
    "squares_sqrt = [math.sqrt(x) for x in squares]\n",
    "\n",
    "print(squares_sqrt)"
   ]
  },
  {
   "cell_type": "code",
   "execution_count": 94,
   "metadata": {},
   "outputs": [
    {
     "name": "stdout",
     "output_type": "stream",
     "text": [
      "['3.1', '3.14', '3.142', '3.1416', '3.14159']\n"
     ]
    }
   ],
   "source": [
    "from math import pi\n",
    "\n",
    "random_pi = [str(round(pi, i)) for i in range(1, 6)]\n",
    "\n",
    "print(random_pi)"
   ]
  },
  {
   "cell_type": "markdown",
   "metadata": {},
   "source": [
    "<h5 id=\"#Part6_1_4_2\">2) combine the 'for' loop or 'if' loop in the list with the function of two variables</h5>"
   ]
  },
  {
   "cell_type": "markdown",
   "metadata": {},
   "source": [
    "It is the same case if we have two variables here."
   ]
  },
  {
   "cell_type": "code",
   "execution_count": 85,
   "metadata": {},
   "outputs": [
    {
     "name": "stdout",
     "output_type": "stream",
     "text": [
      "[(1, 3), (1, 4), (2, 3), (2, 1), (2, 4), (3, 1), (3, 4)]\n"
     ]
    }
   ],
   "source": [
    "combs = []\n",
    "\n",
    "for x in [1,2,3]:\n",
    "    for y in [3,1,4]:\n",
    "        if x != y:\n",
    "            combs.append((x, y))\n",
    "\n",
    "print(combs)"
   ]
  },
  {
   "cell_type": "code",
   "execution_count": 86,
   "metadata": {},
   "outputs": [
    {
     "name": "stdout",
     "output_type": "stream",
     "text": [
      "[(1, 3), (1, 4), (2, 3), (2, 1), (2, 4), (3, 1), (3, 4)]\n"
     ]
    }
   ],
   "source": [
    "combs = [(x, y) for x in [1,2,3] for y in [3,1,4] if x != y]\n",
    "\n",
    "print(combs)"
   ]
  },
  {
   "cell_type": "markdown",
   "metadata": {},
   "source": [
    "Having two variables here doesn't mean that we need to have two unrelated variables. They also can be x and $x^2$, just like what is shown below."
   ]
  },
  {
   "cell_type": "code",
   "execution_count": 95,
   "metadata": {},
   "outputs": [
    {
     "name": "stdout",
     "output_type": "stream",
     "text": [
      "[(0, 0), (1, 1), (2, 4), (3, 9), (4, 16), (5, 25)]\n"
     ]
    }
   ],
   "source": [
    "# create a list of 2-tuples like (number, square)\n",
    "\n",
    "combs_xx = [(x, x**2) for x in range(6)]\n",
    "\n",
    "print(combs_xx)"
   ]
  },
  {
   "cell_type": "markdown",
   "metadata": {},
   "source": [
    "<h4 id=\"#Part6_1_5\">(5) Nested List Comprehensions</h4>"
   ]
  },
  {
   "cell_type": "markdown",
   "metadata": {},
   "source": [
    "When there are many lists in one list, this is called nested list. "
   ]
  },
  {
   "cell_type": "markdown",
   "metadata": {},
   "source": [
    "<h5 id=\"#Part6_1_5_1\">1) Some common characters as lists</h5>"
   ]
  },
  {
   "cell_type": "code",
   "execution_count": 141,
   "metadata": {},
   "outputs": [],
   "source": [
    "matrix = [[1, 2, 3, 4],\n",
    "          [5, 6, 7, 8],\n",
    "          [9, 10, 11, 12]]"
   ]
  },
  {
   "cell_type": "code",
   "execution_count": 142,
   "metadata": {},
   "outputs": [
    {
     "name": "stdout",
     "output_type": "stream",
     "text": [
      "[[1, 5, 9], [2, 6, 10], [3, 7, 11], [4, 8, 12]]\n"
     ]
    }
   ],
   "source": [
    "row_matrix = [[row[i] for row in matrix] for i in range(4)]\n",
    "\n",
    "print(row_matrix)"
   ]
  },
  {
   "cell_type": "markdown",
   "metadata": {},
   "source": [
    "<h5 id=\"#Part6_1_5_2\">2) Some special functions only for nested list</h5>"
   ]
  },
  {
   "cell_type": "markdown",
   "metadata": {},
   "source": [
    "<h6 id=\"#Part6_1_5_2_1\">i) zip()</h6>"
   ]
  },
  {
   "cell_type": "markdown",
   "metadata": {},
   "source": [
    "**zip(iterator1, iterator2, iterator3 ...)**\n",
    "\n",
    "* The zip() function returns a zip object, which is an iterator of tuples where the first item in each passed iterator is paired together, and then the second item in each passed iterator are paired together etc.\n",
    "\n",
    "* If the passed iterators have different lengths, the iterator with the least items decides the length of the new iterator."
   ]
  },
  {
   "cell_type": "code",
   "execution_count": 143,
   "metadata": {},
   "outputs": [
    {
     "name": "stdout",
     "output_type": "stream",
     "text": [
      "[[1, 2, 3, 4], [5, 6, 7, 8], [9, 10, 11, 12]]\n",
      "[(1, 5, 9), (2, 6, 10), (3, 7, 11), (4, 8, 12)]\n"
     ]
    }
   ],
   "source": [
    "print(matrix)\n",
    "\n",
    "new_matrix = list(zip(*matrix))\n",
    "\n",
    "print(new_matrix)"
   ]
  },
  {
   "cell_type": "code",
   "execution_count": 144,
   "metadata": {},
   "outputs": [
    {
     "name": "stdout",
     "output_type": "stream",
     "text": [
      "<zip object at 0x7f82854ad240>\n",
      "[('John', 'Jenny'), ('Charles', 'Christy'), ('Mike', 'Monica')]\n"
     ]
    }
   ],
   "source": [
    "a = (\"John\", \"Charles\", \"Mike\")\n",
    "b = (\"Jenny\", \"Christy\", \"Monica\", \"Vicky\")  # will omit \"Vicky\" as the redundant item\n",
    "\n",
    "x = zip(a, b)\n",
    "\n",
    "print(x)\n",
    "\n",
    "list_x = list(x)\n",
    "\n",
    "print(list_x)"
   ]
  },
  {
   "cell_type": "markdown",
   "metadata": {},
   "source": [
    "<h3 id=\"#Part6_2\">2. tuple</h3>"
   ]
  },
  {
   "cell_type": "markdown",
   "metadata": {},
   "source": [
    "* Tuple: \n",
    "    * can contain different types of variables simutaneously\n",
    "    * use '( )' to represent\n",
    "    * use ',' as seperator\n",
    "    * Elements inside are **immutable (cannot be deleted or added)**"
   ]
  },
  {
   "cell_type": "code",
   "execution_count": 145,
   "metadata": {},
   "outputs": [],
   "source": [
    "zoo = ('python', 'elephant', 'penguin')\n",
    "\n",
    "# can contain different types of variables simutaneously\n",
    "new_zoo = 'monkey', 'camel', zoo\n",
    "\n",
    "t = 12345, 54321, 'hello!'"
   ]
  },
  {
   "cell_type": "markdown",
   "metadata": {},
   "source": [
    "<h4 id=\"#Part6_2_1\">(1) Using \"for\" loop to print out</h4>"
   ]
  },
  {
   "cell_type": "code",
   "execution_count": 113,
   "metadata": {},
   "outputs": [
    {
     "name": "stdout",
     "output_type": "stream",
     "text": [
      "python\n",
      "elephant\n",
      "penguin\n"
     ]
    }
   ],
   "source": [
    "for item in zoo:\n",
    "    print(item)  # or, we can add \", end = ' '\", so that they can "
   ]
  },
  {
   "cell_type": "code",
   "execution_count": 105,
   "metadata": {},
   "outputs": [
    {
     "name": "stdout",
     "output_type": "stream",
     "text": [
      "monkey camel ('python', 'elephant', 'penguin') "
     ]
    }
   ],
   "source": [
    "for item in new_zoo:\n",
    "    print(item)"
   ]
  },
  {
   "cell_type": "code",
   "execution_count": 106,
   "metadata": {},
   "outputs": [
    {
     "name": "stdout",
     "output_type": "stream",
     "text": [
      "12345 54321 hello! "
     ]
    }
   ],
   "source": [
    "for item in t:\n",
    "    print(item, end = ' ')"
   ]
  },
  {
   "cell_type": "markdown",
   "metadata": {},
   "source": [
    "<h4 id=\"#Part6_2_2\">(2) Using index to locate</h4>"
   ]
  },
  {
   "cell_type": "code",
   "execution_count": 146,
   "metadata": {},
   "outputs": [
    {
     "name": "stdout",
     "output_type": "stream",
     "text": [
      "('python', 'elephant', 'penguin')\n",
      "penguin\n"
     ]
    }
   ],
   "source": [
    "print(new_zoo[2])\n",
    "\n",
    "print(new_zoo[2][2]) "
   ]
  },
  {
   "cell_type": "markdown",
   "metadata": {},
   "source": [
    "<h4 id=\"#Part6_2_3\">(3) Some functions applied to tuple</h4>"
   ]
  },
  {
   "cell_type": "markdown",
   "metadata": {},
   "source": [
    "<h5 id=\"#Part6_2_3_1\">1) type(tuple)</h5>"
   ]
  },
  {
   "cell_type": "code",
   "execution_count": 108,
   "metadata": {},
   "outputs": [
    {
     "name": "stdout",
     "output_type": "stream",
     "text": [
      "<class 'tuple'>\n",
      "<class 'tuple'>\n",
      "<class 'tuple'>\n"
     ]
    }
   ],
   "source": [
    "print(type(zoo))\n",
    "print(type(new_zoo))\n",
    "print(type(t))"
   ]
  },
  {
   "cell_type": "markdown",
   "metadata": {},
   "source": [
    "<h5 id=\"#Part6_2_3_2\">2) len(tuple)</h5>"
   ]
  },
  {
   "cell_type": "code",
   "execution_count": 48,
   "metadata": {},
   "outputs": [
    {
     "name": "stdout",
     "output_type": "stream",
     "text": [
      "3\n",
      "3\n",
      "5\n"
     ]
    }
   ],
   "source": [
    "print(len(zoo))\n",
    "\n",
    "print(len(new_zoo))\n",
    "\n",
    "print(len(new_zoo) - 1 + len(new_zoo[2]))"
   ]
  },
  {
   "cell_type": "markdown",
   "metadata": {},
   "source": [
    "<h3 id=\"#Part6_3\">3. set</h3>"
   ]
  },
  {
   "cell_type": "markdown",
   "metadata": {},
   "source": [
    "* Set is a simple collection of objects. \n",
    "* Cannot use index to locate the objects.\n",
    "* When we focus more on whether this item exists or not, rather than the order, we will use set."
   ]
  },
  {
   "cell_type": "code",
   "execution_count": 114,
   "metadata": {},
   "outputs": [],
   "source": [
    "bri = set(['brazil', 'russia', 'india'])"
   ]
  },
  {
   "cell_type": "code",
   "execution_count": 147,
   "metadata": {},
   "outputs": [
    {
     "name": "stdout",
     "output_type": "stream",
     "text": [
      "{'brazil', 'india'}\n"
     ]
    }
   ],
   "source": [
    "print(bri)"
   ]
  },
  {
   "cell_type": "markdown",
   "metadata": {},
   "source": [
    "<h4 id=\"#Part6_3_1\">(1) Using \"for\" loop to print out both key and value</h4>"
   ]
  },
  {
   "cell_type": "code",
   "execution_count": 148,
   "metadata": {},
   "outputs": [
    {
     "name": "stdout",
     "output_type": "stream",
     "text": [
      "brazil\n",
      "india\n"
     ]
    }
   ],
   "source": [
    "for bri_item in bri:\n",
    "    print(bri_item)"
   ]
  },
  {
   "cell_type": "markdown",
   "metadata": {},
   "source": [
    "<h4 id=\"#Part6_3_2\">(2) Using \"in\" to check the value</h4>"
   ]
  },
  {
   "cell_type": "code",
   "execution_count": 149,
   "metadata": {},
   "outputs": [
    {
     "name": "stdout",
     "output_type": "stream",
     "text": [
      "True\n",
      "False\n"
     ]
    }
   ],
   "source": [
    "print('india' in bri)\n",
    "print('usa' in bri)"
   ]
  },
  {
   "cell_type": "markdown",
   "metadata": {},
   "source": [
    "<h4 id=\"#Part6_3_3\">(3) Cannot use index to locate</h4>"
   ]
  },
  {
   "cell_type": "markdown",
   "metadata": {},
   "source": [
    "<h4 id=\"#Part6_3_4\">(4) Some functions applied to tuple</h4>"
   ]
  },
  {
   "cell_type": "markdown",
   "metadata": {},
   "source": [
    "<h5 id=\"#Part6_3_4_1\">1) type(set)</h5>"
   ]
  },
  {
   "cell_type": "code",
   "execution_count": 151,
   "metadata": {},
   "outputs": [
    {
     "name": "stdout",
     "output_type": "stream",
     "text": [
      "<class 'set'>\n"
     ]
    }
   ],
   "source": [
    "print(type(bri))"
   ]
  },
  {
   "cell_type": "markdown",
   "metadata": {},
   "source": [
    "<h5 id=\"#Part6_3_4_2\">2) set.copy()</h5>"
   ]
  },
  {
   "cell_type": "code",
   "execution_count": 152,
   "metadata": {},
   "outputs": [
    {
     "name": "stdout",
     "output_type": "stream",
     "text": [
      "{'brazil', 'russia', 'india'}\n",
      "{'brazil', 'russia', 'india'}\n"
     ]
    }
   ],
   "source": [
    "bric = bri.copy()  \n",
    "# Every time when we want to calculate on the data, but don't want to destroy the original data, we will use copy()\n",
    "\n",
    "print(bri)\n",
    "print(bric)"
   ]
  },
  {
   "cell_type": "markdown",
   "metadata": {},
   "source": [
    "<h5 id=\"#Part6_3_4_3\">3) set.add()</h5>"
   ]
  },
  {
   "cell_type": "code",
   "execution_count": 153,
   "metadata": {},
   "outputs": [
    {
     "name": "stdout",
     "output_type": "stream",
     "text": [
      "{'brazil', 'russia', 'india'}\n",
      "{'brazil', 'russia', 'india'}\n",
      "{'brazil', 'china', 'russia', 'india'}\n"
     ]
    }
   ],
   "source": [
    "print(bri)\n",
    "\n",
    "bric.add('china')\n",
    "\n",
    "print(bri)\n",
    "print(bric)"
   ]
  },
  {
   "cell_type": "markdown",
   "metadata": {},
   "source": [
    "<h5 id=\"#Part6_3_3_4\">4) set.issuperset(set)</h5>"
   ]
  },
  {
   "cell_type": "markdown",
   "metadata": {},
   "source": [
    "Set X is said to be the superset of set Y if all elements of Y are in X.\n",
    "\n",
    "**A.issuperset(B):** checks if A is a superset of B.\n",
    "\n",
    "* Return **\"True\"** if A is a superset of B\n",
    "* Return **\"False\"** if A is not a superset of B"
   ]
  },
  {
   "cell_type": "code",
   "execution_count": 154,
   "metadata": {},
   "outputs": [
    {
     "name": "stdout",
     "output_type": "stream",
     "text": [
      "True\n",
      "{'brazil', 'russia', 'india'}\n",
      "{'brazil', 'china', 'russia', 'india'}\n"
     ]
    }
   ],
   "source": [
    "print(bric.issuperset(bri)) \n",
    "\n",
    "print(bri)\n",
    "print(bric)"
   ]
  },
  {
   "cell_type": "markdown",
   "metadata": {},
   "source": [
    "<h5 id=\"#Part6_3_4_5\">5) set.remove()</h5>"
   ]
  },
  {
   "cell_type": "code",
   "execution_count": 155,
   "metadata": {},
   "outputs": [
    {
     "name": "stdout",
     "output_type": "stream",
     "text": [
      "{'brazil', 'india'}\n",
      "{'brazil', 'china', 'russia', 'india'}\n"
     ]
    }
   ],
   "source": [
    "bri.remove('russia')\n",
    "\n",
    "print(bri)\n",
    "print(bric)"
   ]
  },
  {
   "cell_type": "markdown",
   "metadata": {},
   "source": [
    "<h3 id=\"#Part6_4\">4. dictionary</h3>"
   ]
  },
  {
   "cell_type": "markdown",
   "metadata": {},
   "source": [
    "* Dictionary is like a reference book, every item has a **unique reference number**, which is named **key**, and its containing, which is named **value**.\n",
    "\n",
    "* So, can use signal to represent dictionary: **d = {key1: value1; key2: value2}**"
   ]
  },
  {
   "cell_type": "code",
   "execution_count": 156,
   "metadata": {},
   "outputs": [],
   "source": [
    "# Example 1: here use name as key (unique reference index), and email address as value(content)\n",
    "ab = {\n",
    "    'Swaroop': 'swaroop@swaroopch.com',\n",
    "    'Larry': 'larry@wall.org',\n",
    "    'Matsumoto': 'matz@ruby-lang.org',\n",
    "    'Spammer': 'spammer@hotmail.com'\n",
    "}"
   ]
  },
  {
   "cell_type": "markdown",
   "metadata": {},
   "source": [
    "<h4 id=\"#Part6_4_1\">(1) Using \"for\" loop to print out both key and value</h4>"
   ]
  },
  {
   "cell_type": "code",
   "execution_count": 157,
   "metadata": {},
   "outputs": [
    {
     "name": "stdout",
     "output_type": "stream",
     "text": [
      "Contact Swaroop at swaroop@swaroopch.com\n",
      "Contact Larry at larry@wall.org\n",
      "Contact Matsumoto at matz@ruby-lang.org\n",
      "Contact Spammer at spammer@hotmail.com\n"
     ]
    }
   ],
   "source": [
    "for name, address in ab.items():\n",
    "    print('Contact {} at {}'.format(name, address))"
   ]
  },
  {
   "cell_type": "code",
   "execution_count": 158,
   "metadata": {},
   "outputs": [],
   "source": [
    "# \"if\" is the same case\n",
    "if 'Guido' in ab:\n",
    "    print(\"Guido's address is\", ab['Guido']) # to check whether we add this pair successfully"
   ]
  },
  {
   "cell_type": "markdown",
   "metadata": {},
   "source": [
    "<h4 id=\"#Part6_4_2\">(2) Using keys to locate values</h4>"
   ]
  },
  {
   "cell_type": "code",
   "execution_count": 159,
   "metadata": {},
   "outputs": [
    {
     "name": "stdout",
     "output_type": "stream",
     "text": [
      "swaroop@swaroopch.com\n"
     ]
    }
   ],
   "source": [
    "print(ab['Swaroop'])"
   ]
  },
  {
   "cell_type": "markdown",
   "metadata": {},
   "source": [
    "<h4 id=\"#Part6_4_3\">(3) Some functions applied to dictionary</h4>"
   ]
  },
  {
   "cell_type": "markdown",
   "metadata": {},
   "source": [
    "<h5 id=\"#Part6_4_3_1\">1) type(dictionary)</h5>"
   ]
  },
  {
   "cell_type": "code",
   "execution_count": 160,
   "metadata": {},
   "outputs": [
    {
     "name": "stdout",
     "output_type": "stream",
     "text": [
      "<class 'dict'>\n"
     ]
    }
   ],
   "source": [
    "print(type(ab))"
   ]
  },
  {
   "cell_type": "markdown",
   "metadata": {},
   "source": [
    "<h5 id=\"#Part6_4_3_2\">2) len(dictionary)</h5>"
   ]
  },
  {
   "cell_type": "code",
   "execution_count": 161,
   "metadata": {},
   "outputs": [
    {
     "name": "stdout",
     "output_type": "stream",
     "text": [
      "4\n"
     ]
    }
   ],
   "source": [
    "print(len(ab))"
   ]
  },
  {
   "cell_type": "markdown",
   "metadata": {},
   "source": [
    "<h5 id=\"#Part6_4_3_3\">3) add an item</h5>"
   ]
  },
  {
   "cell_type": "code",
   "execution_count": 162,
   "metadata": {},
   "outputs": [
    {
     "name": "stdout",
     "output_type": "stream",
     "text": [
      "{'Swaroop': 'swaroop@swaroopch.com', 'Larry': 'larry@wall.org', 'Matsumoto': 'matz@ruby-lang.org', 'Spammer': 'spammer@hotmail.com'}\n",
      "{'Swaroop': 'swaroop@swaroopch.com', 'Larry': 'larry@wall.org', 'Matsumoto': 'matz@ruby-lang.org', 'Spammer': 'spammer@hotmail.com', 'Guido': 'guido@python.org'}\n"
     ]
    }
   ],
   "source": [
    "print(ab)\n",
    "\n",
    "ab['Guido'] = 'guido@python.org'\n",
    "\n",
    "print(ab)"
   ]
  },
  {
   "cell_type": "markdown",
   "metadata": {},
   "source": [
    "<h5 id=\"#Part6_4_3_4\">4) delete an item</h5>"
   ]
  },
  {
   "cell_type": "code",
   "execution_count": 163,
   "metadata": {},
   "outputs": [
    {
     "name": "stdout",
     "output_type": "stream",
     "text": [
      "{'Swaroop': 'swaroop@swaroopch.com', 'Larry': 'larry@wall.org', 'Matsumoto': 'matz@ruby-lang.org', 'Spammer': 'spammer@hotmail.com', 'Guido': 'guido@python.org'}\n",
      "{'Swaroop': 'swaroop@swaroopch.com', 'Larry': 'larry@wall.org', 'Matsumoto': 'matz@ruby-lang.org', 'Guido': 'guido@python.org'}\n"
     ]
    }
   ],
   "source": [
    "print(ab)\n",
    "\n",
    "del ab['Spammer']\n",
    "\n",
    "print(ab)"
   ]
  },
  {
   "cell_type": "markdown",
   "metadata": {},
   "source": [
    "<h3 id=\"#Part6_5\">5. Summary</h3>"
   ]
  },
  {
   "cell_type": "markdown",
   "metadata": {},
   "source": [
    "<h4 id=\"#Part6_5_1\">(1) Sequence (list, tuple & string)</h4>"
   ]
  },
  {
   "cell_type": "markdown",
   "metadata": {},
   "source": [
    "<h5 id=\"#Part6_5_1_1\">1) Introduction</h5>"
   ]
  },
  {
   "cell_type": "markdown",
   "metadata": {},
   "source": [
    "**Notes:** \n",
    "* Sequence is the combination of **list, tuple and string**\n",
    "* Sequence has two functions, one is **index**, another is **slicing**"
   ]
  },
  {
   "cell_type": "code",
   "execution_count": 164,
   "metadata": {},
   "outputs": [],
   "source": [
    "shoplist = ['apple', 'mango', 'carrot', 'banana']   #list (mutable)\n",
    "zoo = ('python', 'elephant', 'penguin')   #tuple (immutable)\n",
    "name = 'swaroop'  #string"
   ]
  },
  {
   "cell_type": "code",
   "execution_count": 129,
   "metadata": {},
   "outputs": [
    {
     "name": "stdout",
     "output_type": "stream",
     "text": [
      "<class 'list'>\n",
      "<class 'tuple'>\n",
      "<class 'str'>\n"
     ]
    }
   ],
   "source": [
    "print(type(shoplist))\n",
    "print(type(zoo))\n",
    "print(type(name))"
   ]
  },
  {
   "cell_type": "markdown",
   "metadata": {},
   "source": [
    "<h5 id=\"#Part6_5_1_2\">2) Functions applied to sequence</h5>"
   ]
  },
  {
   "cell_type": "markdown",
   "metadata": {},
   "source": [
    "<h6 id=\"#Part6_5_1_2_1\">a) Indexing</h6>"
   ]
  },
  {
   "cell_type": "code",
   "execution_count": 165,
   "metadata": {},
   "outputs": [
    {
     "name": "stdout",
     "output_type": "stream",
     "text": [
      "['apple', 'mango', 'carrot', 'banana']\n",
      "apple\n",
      "banana\n"
     ]
    }
   ],
   "source": [
    "#  i) shoplist\n",
    "print(shoplist)\n",
    "\n",
    "print(shoplist[0])\n",
    "print(shoplist[-1])"
   ]
  },
  {
   "cell_type": "code",
   "execution_count": 166,
   "metadata": {},
   "outputs": [
    {
     "name": "stdout",
     "output_type": "stream",
     "text": [
      "('python', 'elephant', 'penguin')\n",
      "elephant\n",
      "elephant\n"
     ]
    }
   ],
   "source": [
    "#  ii) zoo\n",
    "print(zoo)\n",
    "\n",
    "print(zoo[1])\n",
    "print(zoo[-2])"
   ]
  },
  {
   "cell_type": "code",
   "execution_count": 168,
   "metadata": {},
   "outputs": [
    {
     "name": "stdout",
     "output_type": "stream",
     "text": [
      "swaroop\n",
      "a\n",
      "o\n"
     ]
    }
   ],
   "source": [
    "#  iii) name\n",
    "print(name)\n",
    "\n",
    "print(name[2])\n",
    "print(name[-3])"
   ]
  },
  {
   "cell_type": "markdown",
   "metadata": {},
   "source": [
    "<h6 id=\"#Part6_5_1_2_2\">b) Slicing</h6>"
   ]
  },
  {
   "cell_type": "markdown",
   "metadata": {},
   "source": [
    "<h7 id=\"#Part6_5_1_2_2_1\">i) common slice</h7>"
   ]
  },
  {
   "cell_type": "code",
   "execution_count": 169,
   "metadata": {},
   "outputs": [
    {
     "name": "stdout",
     "output_type": "stream",
     "text": [
      "['apple', 'mango', 'carrot', 'banana']\n",
      "['apple', 'mango']\n"
     ]
    }
   ],
   "source": [
    "print(shoplist)\n",
    "\n",
    "print(shoplist[0:2])"
   ]
  },
  {
   "cell_type": "code",
   "execution_count": 170,
   "metadata": {},
   "outputs": [
    {
     "name": "stdout",
     "output_type": "stream",
     "text": [
      "('python', 'elephant', 'penguin')\n",
      "('python', 'elephant')\n"
     ]
    }
   ],
   "source": [
    "print(zoo)\n",
    "\n",
    "print(zoo[-3:-1]) \n",
    "#although the negative number means to slice from right to left, the smaller number still need to be put on the left"
   ]
  },
  {
   "cell_type": "code",
   "execution_count": 171,
   "metadata": {},
   "outputs": [
    {
     "name": "stdout",
     "output_type": "stream",
     "text": [
      "swaroop\n",
      "sw\n"
     ]
    }
   ],
   "source": [
    "print(name)\n",
    "\n",
    "print(name[0:2])"
   ]
  },
  {
   "cell_type": "markdown",
   "metadata": {},
   "source": [
    "<h7 id=\"#Part6_5_1_2_2_2\">ii) slice with omitting</h7>"
   ]
  },
  {
   "cell_type": "code",
   "execution_count": 172,
   "metadata": {},
   "outputs": [
    {
     "name": "stdout",
     "output_type": "stream",
     "text": [
      "['apple', 'mango', 'carrot', 'banana']\n",
      "['mango', 'carrot', 'banana']\n"
     ]
    }
   ],
   "source": [
    "print(shoplist)\n",
    "\n",
    "print(shoplist[-3:])"
   ]
  },
  {
   "cell_type": "code",
   "execution_count": 173,
   "metadata": {},
   "outputs": [
    {
     "name": "stdout",
     "output_type": "stream",
     "text": [
      "('python', 'elephant', 'penguin')\n",
      "('python', 'elephant')\n"
     ]
    }
   ],
   "source": [
    "print(zoo)\n",
    "\n",
    "print(zoo[:2])"
   ]
  },
  {
   "cell_type": "code",
   "execution_count": 174,
   "metadata": {},
   "outputs": [
    {
     "name": "stdout",
     "output_type": "stream",
     "text": [
      "swaroop\n",
      "swaroop\n"
     ]
    }
   ],
   "source": [
    "print(name)\n",
    "\n",
    "print(name[:])"
   ]
  },
  {
   "cell_type": "markdown",
   "metadata": {},
   "source": [
    "<h7 id=\"#Part6_5_1_2_2_3\">iii) slice with steps</h7>"
   ]
  },
  {
   "cell_type": "code",
   "execution_count": 175,
   "metadata": {},
   "outputs": [
    {
     "name": "stdout",
     "output_type": "stream",
     "text": [
      "['apple', 'mango', 'carrot', 'banana']\n",
      "['apple', 'mango', 'carrot', 'banana']\n",
      "['apple', 'carrot']\n",
      "['apple', 'banana']\n",
      "['banana', 'carrot', 'mango', 'apple']\n"
     ]
    }
   ],
   "source": [
    "print(shoplist)\n",
    "\n",
    "print(shoplist[::1])\n",
    "print(shoplist[::2])\n",
    "print(shoplist[::3])\n",
    "print(shoplist[::-1])"
   ]
  },
  {
   "cell_type": "markdown",
   "metadata": {},
   "source": [
    "<h7 id=\"#Part6_5_1_2_2_4\">iv) slice with two different indexing approaches</h7>"
   ]
  },
  {
   "cell_type": "code",
   "execution_count": 176,
   "metadata": {},
   "outputs": [
    {
     "name": "stdout",
     "output_type": "stream",
     "text": [
      "('python', 'elephant')\n"
     ]
    }
   ],
   "source": [
    "print(zoo[0:-1])\n",
    "# one is positive index, another is negative index"
   ]
  },
  {
   "cell_type": "markdown",
   "metadata": {},
   "source": [
    "<h4 id=\"#Part6_5_2\">(2) Reference</h4>"
   ]
  },
  {
   "cell_type": "markdown",
   "metadata": {},
   "source": [
    "<h5 id=\"#Part6_5_2_1\">1) Direct Reference</h5>"
   ]
  },
  {
   "cell_type": "markdown",
   "metadata": {},
   "source": [
    "**Direct Reference:**\n",
    "\n",
    "No matter whether you operate on the original value or the reference value, the value of these two variables will **both change**."
   ]
  },
  {
   "cell_type": "markdown",
   "metadata": {},
   "source": [
    "<h6 id=\"#Part6_5_2_1_1\">a) operate on the original value</h6>"
   ]
  },
  {
   "cell_type": "code",
   "execution_count": 177,
   "metadata": {},
   "outputs": [
    {
     "name": "stdout",
     "output_type": "stream",
     "text": [
      "['apple', 'mango', 'carrot', 'banana']\n",
      "['apple', 'mango', 'carrot', 'banana']\n"
     ]
    }
   ],
   "source": [
    "shoplist = ['apple', 'mango', 'carrot', 'banana']  # original value\n",
    "mylist = shoplist  # refered value\n",
    "\n",
    "print(shoplist)\n",
    "print(mylist)"
   ]
  },
  {
   "cell_type": "code",
   "execution_count": 178,
   "metadata": {},
   "outputs": [
    {
     "name": "stdout",
     "output_type": "stream",
     "text": [
      "['mango', 'carrot', 'banana']\n",
      "['mango', 'carrot', 'banana']\n"
     ]
    }
   ],
   "source": [
    "del shoplist[0]\n",
    "\n",
    "print(shoplist)\n",
    "print(mylist)"
   ]
  },
  {
   "cell_type": "markdown",
   "metadata": {},
   "source": [
    "<h6 id=\"#Part6_5_2_1_2\">b) operate on the refered value</h6>"
   ]
  },
  {
   "cell_type": "code",
   "execution_count": 179,
   "metadata": {},
   "outputs": [
    {
     "name": "stdout",
     "output_type": "stream",
     "text": [
      "['apple', 'mango', 'carrot', 'banana']\n",
      "['apple', 'mango', 'carrot', 'banana']\n"
     ]
    }
   ],
   "source": [
    "shoplist = ['apple', 'mango', 'carrot', 'banana']  # original value\n",
    "mylist = shoplist  # refered value\n",
    "\n",
    "print(shoplist)\n",
    "print(mylist)"
   ]
  },
  {
   "cell_type": "code",
   "execution_count": 180,
   "metadata": {},
   "outputs": [
    {
     "name": "stdout",
     "output_type": "stream",
     "text": [
      "['mango', 'carrot', 'banana']\n",
      "['mango', 'carrot', 'banana']\n"
     ]
    }
   ],
   "source": [
    "del mylist[0]\n",
    "\n",
    "print(shoplist)\n",
    "print(mylist)"
   ]
  },
  {
   "cell_type": "markdown",
   "metadata": {},
   "source": [
    "<h5 id=\"#Part6_5_2_2\">2) Indirect Reference</h5>"
   ]
  },
  {
   "cell_type": "markdown",
   "metadata": {},
   "source": [
    "**Indirect Reference:**\n",
    "\n",
    "Generate a totally new and independent variable with no relationship with the original variable."
   ]
  },
  {
   "cell_type": "markdown",
   "metadata": {},
   "source": [
    "<h6 id=\"#Part6_5_2_2_1\">a) operate on the original value</h6>"
   ]
  },
  {
   "cell_type": "code",
   "execution_count": 181,
   "metadata": {},
   "outputs": [
    {
     "name": "stdout",
     "output_type": "stream",
     "text": [
      "['apple', 'mango', 'carrot', 'banana']\n",
      "['apple', 'mango', 'carrot', 'banana']\n"
     ]
    }
   ],
   "source": [
    "shoplist = ['apple', 'mango', 'carrot', 'banana']  # original value\n",
    "mylist = shoplist[:]  # create a totally new variable\n",
    "\n",
    "print(shoplist)\n",
    "print(mylist)"
   ]
  },
  {
   "cell_type": "code",
   "execution_count": 182,
   "metadata": {},
   "outputs": [
    {
     "name": "stdout",
     "output_type": "stream",
     "text": [
      "['mango', 'carrot', 'banana']\n",
      "['apple', 'mango', 'carrot', 'banana']\n"
     ]
    }
   ],
   "source": [
    "del shoplist[0]\n",
    "\n",
    "print(shoplist)\n",
    "print(mylist)"
   ]
  },
  {
   "cell_type": "markdown",
   "metadata": {},
   "source": [
    "<h6 id=\"#Part6_5_2_2_2\">b) operate on the generated new value</h6>"
   ]
  },
  {
   "cell_type": "code",
   "execution_count": 183,
   "metadata": {},
   "outputs": [
    {
     "name": "stdout",
     "output_type": "stream",
     "text": [
      "['apple', 'mango', 'carrot', 'banana']\n",
      "['apple', 'mango', 'carrot', 'banana']\n"
     ]
    }
   ],
   "source": [
    "shoplist = ['apple', 'mango', 'carrot', 'banana']  # original value\n",
    "mylist = shoplist[:]  # create a totally new variable\n",
    "\n",
    "print(shoplist)\n",
    "print(mylist)"
   ]
  },
  {
   "cell_type": "code",
   "execution_count": 184,
   "metadata": {},
   "outputs": [
    {
     "name": "stdout",
     "output_type": "stream",
     "text": [
      "['apple', 'mango', 'carrot', 'banana']\n",
      "['mango', 'carrot', 'banana']\n"
     ]
    }
   ],
   "source": [
    "del mylist[0]\n",
    "\n",
    "print(shoplist)\n",
    "print(mylist)"
   ]
  },
  {
   "cell_type": "markdown",
   "metadata": {},
   "source": [
    "<h4 id=\"#Part6_5_3\">(3) Functions applied to \"string\" object</h4>"
   ]
  },
  {
   "cell_type": "code",
   "execution_count": 185,
   "metadata": {},
   "outputs": [],
   "source": [
    "name = 'Swaroop'"
   ]
  },
  {
   "cell_type": "markdown",
   "metadata": {},
   "source": [
    "<h5 id=\"#Part6_5_3_1\">1) string in string</h5>"
   ]
  },
  {
   "cell_type": "code",
   "execution_count": 186,
   "metadata": {},
   "outputs": [
    {
     "name": "stdout",
     "output_type": "stream",
     "text": [
      "True\n"
     ]
    }
   ],
   "source": [
    "print('a' in name)"
   ]
  },
  {
   "cell_type": "code",
   "execution_count": 187,
   "metadata": {},
   "outputs": [
    {
     "name": "stdout",
     "output_type": "stream",
     "text": [
      "Yes, it contains the string \"a\"\n"
     ]
    }
   ],
   "source": [
    "if 'a' in name:\n",
    "    print('Yes, it contains the string \"a\"')"
   ]
  },
  {
   "cell_type": "markdown",
   "metadata": {},
   "source": [
    "<h5 id=\"#Part6_5_3_2\">2) string.startswith()</h5>"
   ]
  },
  {
   "cell_type": "code",
   "execution_count": 188,
   "metadata": {},
   "outputs": [
    {
     "name": "stdout",
     "output_type": "stream",
     "text": [
      "True\n"
     ]
    }
   ],
   "source": [
    "print(name.startswith('Swa'))"
   ]
  },
  {
   "cell_type": "code",
   "execution_count": 189,
   "metadata": {},
   "outputs": [
    {
     "name": "stdout",
     "output_type": "stream",
     "text": [
      "Yes, the string starts with \"Swa\"\n"
     ]
    }
   ],
   "source": [
    "if name.startswith('Swa'):                        # string.startswith()\n",
    "    print('Yes, the string starts with \"Swa\"')"
   ]
  },
  {
   "cell_type": "markdown",
   "metadata": {},
   "source": [
    "<h5 id=\"#Part6_5_3_3\">3) string.find()</h5>"
   ]
  },
  {
   "cell_type": "code",
   "execution_count": 190,
   "metadata": {},
   "outputs": [
    {
     "name": "stdout",
     "output_type": "stream",
     "text": [
      "True\n"
     ]
    }
   ],
   "source": [
    "print(name.find('war') != -1)"
   ]
  },
  {
   "cell_type": "code",
   "execution_count": 191,
   "metadata": {},
   "outputs": [
    {
     "name": "stdout",
     "output_type": "stream",
     "text": [
      "Yes, it contains the string \"war\"\n"
     ]
    }
   ],
   "source": [
    "if name.find('war') != -1:                        # string.find()\n",
    "    print('Yes, it contains the string \"war\"')"
   ]
  },
  {
   "cell_type": "markdown",
   "metadata": {},
   "source": [
    "<h5 id=\"#Part6_5_3_4\">4) string.join()</h5>"
   ]
  },
  {
   "cell_type": "code",
   "execution_count": 192,
   "metadata": {},
   "outputs": [
    {
     "name": "stdout",
     "output_type": "stream",
     "text": [
      "Brazil_*_Russia_*_India_*_China\n"
     ]
    }
   ],
   "source": [
    "delimiter = '_*_'\n",
    "mylist = ['Brazil', 'Russia', 'India', 'China']\n",
    "print(delimiter.join(mylist))                     # string.join()"
   ]
  },
  {
   "cell_type": "code",
   "execution_count": null,
   "metadata": {},
   "outputs": [],
   "source": []
  }
 ],
 "metadata": {
  "kernelspec": {
   "display_name": "Python 3",
   "language": "python",
   "name": "python3"
  },
  "language_info": {
   "codemirror_mode": {
    "name": "ipython",
    "version": 3
   },
   "file_extension": ".py",
   "mimetype": "text/x-python",
   "name": "python",
   "nbconvert_exporter": "python",
   "pygments_lexer": "ipython3",
   "version": "3.8.3"
  }
 },
 "nbformat": 4,
 "nbformat_minor": 2
}
