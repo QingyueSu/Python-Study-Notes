{
 "cells": [
  {
   "cell_type": "markdown",
   "metadata": {},
   "source": [
    "<h1 align=\"center\"><font size=\"5\"> Python Study Notes - 1</font></h1>\n",
    "<h1 align=\"center\"><font size=\"3\"> by Sue </font></h1>"
   ]
  },
  {
   "cell_type": "markdown",
   "metadata": {},
   "source": [
    "<h1 align=\"left\"><font size=\"3\">README  </font></h1>\n",
    "\n",
    "In this series of notebooks, I will summarize all the information I find useful when I was studying Python. I will display the contents from the most basic part to the most difficult part according to my understanding. \n",
    "\n",
    "This notebook is the first one, which is the basic introduction of some calculations and basic usages of Python."
   ]
  },
  {
   "cell_type": "markdown",
   "metadata": {},
   "source": [
    "<h1>Table of contents</h1>\n",
    "\n",
    "<div class=\"alert alert-block alert-info\" style=\"margin-top: 20px\">\n",
    "    <ul>\n",
    "        <li><a id=\"#Part0\">Part 0. Python background</a></li>\n",
    "            <ul>\n",
    "                <li><a id=\"#Part0_1\">1. Basic usage of common signs</a></li>\n",
    "                    <ul>\n",
    "                        <li><a id=\"#Part0_1_1\">(1) #</a></li>\n",
    "                        <li><a id=\"#Part0_1_2\">(2) \" \"&' '&''' '''</a></li>\n",
    "                        <li><a id=\"#Part0_1_3\">(3) ;</a></li>\n",
    "                        <li><a id=\"#Part0_1_4\">(4) \\</a></li>\n",
    "                    </ul>\n",
    "                    <li><a id=\"#Part0_2\">2. Basic functions</a></li>\n",
    "                    <ul>\n",
    "                        <li><a id=\"#Part0_2_1\">(1) format()</a></li>\n",
    "                        <li><a id=\"#Part0_2_2\">(2) print()</a></li>\n",
    "                        <li><a id=\"#Part0_2_3\">(3) range()</a></li>\n",
    "                        <li><a id=\"#Part0_2_4\">(4) id()</a></li>\n",
    "                        <li><a id=\"#Part0_2_5\">(5) functions in random package</a></li>\n",
    "                    </ul>\n",
    "                <li><a id=\"#Part0_3\">3. Basic regulations about naming variables</a></li>\n",
    "            </ul>\n",
    "        <li><a id=\"#Part1\">Part 1. Python as a calculator</a></li>\n",
    "            <ul>\n",
    "                <li><a id=\"#Part1_1\">1. Basic types of calculation</a></li>\n",
    "                    <ul>\n",
    "                        <li><a id=\"#Part1_1_1\">(1) Addition: +</a></li>\n",
    "                        <li><a id=\"#Part1_1_2\">(2) Subtraction: -</a></li>\n",
    "                        <li><a id=\"#Part1_1_3\">(3) Multiplication: *</a></li>\n",
    "                        <li><a id=\"#Part1_1_4\">(4) Division: /</a></li>\n",
    "                        <li><a id=\"#Part1_1_5\">(5) Exponentiation: **</a></li>\n",
    "                        <li><a id=\"#Part1_1_6\">(6) Round down: //</a></li>\n",
    "                        <li><a id=\"#Part1_1_7\">(7) Modulo: %</a></li>\n",
    "                    </ul>\n",
    "                <li><a id=\"#Part1_2\">2. Special types of calculation (relevant to decimal system and Binary system)</a></li>\n",
    "                    <ul>\n",
    "                        <li><a id=\"#Part1_2_1\">(1) Left move: <<</a></li>\n",
    "                        <li><a id=\"#Part1_2_2\">(2) Right move: >></a></li>\n",
    "                        <li><a id=\"#Part1_2_3\">(3) Bitwise AND: &</a></li>\n",
    "                        <li><a id=\"#Part1_2_4\">(4) Bitwise OR: |</a></li>\n",
    "                        <li><a id=\"#Part1_2_5\">(5) Bitwise XOR: ^</a></li>\n",
    "                        <li><a id=\"#Part1_2_6\">(6) compl: ~</a></li>\n",
    "                    </ul>\n",
    "                <li><a id=\"#Part1_3\">3. Special types of calculation (relevant to boolean variable)</a></li>\n",
    "                    <ul>\n",
    "                        <li><a id=\"#Part1_3_1\">(1) Smaller than: <</a></li>\n",
    "                        <li><a id=\"#Part1_3_2\">(2) Larger than: ></a></li>\n",
    "                        <li><a id=\"#Part1_3_3\">(3) Smaller than or equal to: <=</a></li>\n",
    "                        <li><a id=\"#Part1_3_4\">(4) Larger than or equal to: >=</a></li>\n",
    "                        <li><a id=\"#Part1_3_5\">(5) Equal to: ==</a></li>\n",
    "                        <li><a id=\"#Part1_3_6\">(6) Not equal to: !=</a></li>\n",
    "                        <li><a id=\"#Part1_3_7\">(7) Boolean Not: not</a></li>\n",
    "                        <li><a id=\"#Part1_3_8\">(8) Boolean And: and</a></li>\n",
    "                        <li><a id=\"#Part1_3_9\">(9) Boolean Or: or</a></li>\n",
    "                    </ul>\n",
    "            </ul>\n",
    "        <li><a id=\"#Part2\">Part 2. Variables and Types</a></li>\n",
    "            <ul>\n",
    "                <li><a id=\"#Part2_1\">1. Five different types of variables</a></li>\n",
    "                    <ul>\n",
    "                        <li><a id=\"#Part2_1_1\">(1) integer: int</a></li>\n",
    "                        <li><a id=\"#Part2_1_2\">(2) float: float (special: long, None)</a></li>\n",
    "                        <li><a id=\"#Part2_1_3\">(3) string: str (special: unicode)</a></li>\n",
    "                        <li><a id=\"#Part2_1_4\">(4) boolean: bool</a></li>\n",
    "                        <li><a id=\"#Part2_1_5\">(5) date</a></li>\n",
    "                    </ul>\n",
    "                <li><a id=\"#Part2_2\">2. Calculation among variables</a></li>\n",
    "                    <ul>\n",
    "                        <li><a id=\"#Part2_2_1\">(1) among numericals (integer or float)</a></li>\n",
    "                        <li><a id=\"#Part2_2_2\">(2) among strings</a></li>\n",
    "                    </ul>\n",
    "                <li><a id=\"#Part2_3\">3. Transformation between different types of variables</a></li>\n",
    "                    <ul>\n",
    "                        <li><a id=\"#Part2_3_1\">(1) str()</a></li>\n",
    "                        <li><a id=\"#Part2_3_2\">(2) int() / float()</a></li>\n",
    "                    </ul>\n",
    "            </ul>\n",
    "        <li><a id=\"#Part3\">Part 3. Control Flow Statement</a></li>   \n",
    "            <ul>\n",
    "                <li><a id=\"#Part3_1\">1. three types of control flow statements</a></li>\n",
    "                    <ul>\n",
    "                        <li><a id=\"#Part3_1_1\">(1) 'if' statement</a></li>\n",
    "                        <li><a id=\"#Part3_1_2\">(2) 'while' statement</a></li>\n",
    "                        <li><a id=\"#Part3_1_3\">(3) 'for' statement</a></li>\n",
    "                    </ul>\n",
    "                <li><a id=\"#Part3_2\">2. Three types of statements used in the three types of control flow statements above</a></li>\n",
    "                    <ul>\n",
    "                        <li><a id=\"#Part3_2_1\">(1) 'pass' statement</a></li>\n",
    "                        <li><a id=\"#Part3_2_2\">(2) 'continue' statement</a></li>\n",
    "                        <li><a id=\"#Part3_2_3\">(3) 'break' statement</a></li>\n",
    "                        <li><a id=\"#Part3_2_4\">(4) 'return' statement (*)</a></li>\n",
    "                    </ul>\n",
    "            </ul>\n",
    "        <li><a id=\"#Part4\">Part 4. Functions</a></li>   \n",
    "            <ul>\n",
    "                <li><a id=\"#Part4_1\">1. Basic Approach to use function</a></li>\n",
    "                    <ul>\n",
    "                        <li><a id=\"#Part4_1_1\">(1) function without parameters</a></li>\n",
    "                        <li><a id=\"#Part4_1_2\">(2) function with parameters</a></li>\n",
    "                    </ul>\n",
    "                <li><a id=\"#Part4_2\">2. Local Variables & Global Variables</a></li>\n",
    "                    <ul>\n",
    "                        <li><a id=\"#Part4_2_1\">(1) Local Variables</a></li>\n",
    "                        <li><a id=\"#Part4_2_2\">(2) Global Variables</a></li>\n",
    "                    </ul>\n",
    "                <li><a id=\"#Part4_3\">3. Default value  & Keyword Arguments</a></li>\n",
    "                    <ul>\n",
    "                        <li><a id=\"#Part4_3_1\">(1) Default value</a></li>\n",
    "                        <li><a id=\"#Part4_3_2\">(2) Keyword Arguments</a></li>\n",
    "                    </ul>\n",
    "                <li><a id=\"#Part4_4\">4. Changeable Parameters</a></li>\n",
    "                <li><a id=\"#Part4_5\">5. Documentation Strings (DocStrings)</a></li>\n",
    "            </ul>\n",
    "        <li><a id=\"#Part5\">Part 5. Modules & Packages</a></li>   \n",
    "            <ul>\n",
    "                <li><a id=\"#Part5_1\">1. Modules</a></li>\n",
    "            </ul>\n",
    "    </ul>\n",
    "</div>\n",
    "<br>\n",
    "<hr>"
   ]
  },
  {
   "cell_type": "markdown",
   "metadata": {},
   "source": [
    "<h2 id=\"#Part0\">Part 0. Python background</h2>\n",
    "<hr>"
   ]
  },
  {
   "cell_type": "markdown",
   "metadata": {},
   "source": [
    "<h3 id=\"#Part0_1\">1. Basic usage of common signs</h3>"
   ]
  },
  {
   "cell_type": "markdown",
   "metadata": {},
   "source": [
    "<h4 id=\"#Part0_1_1\">(1) #</h4>"
   ]
  },
  {
   "cell_type": "markdown",
   "metadata": {},
   "source": [
    "* \\# : comments"
   ]
  },
  {
   "cell_type": "markdown",
   "metadata": {},
   "source": [
    "<h4 id=\"#Part0_1_2\">(2) \" \"&' '&''' '''</h4>"
   ]
  },
  {
   "cell_type": "markdown",
   "metadata": {},
   "source": [
    "* ' ' or \" \" : \n",
    "    * both refer the specific string (one line) \n",
    "    * [But '' can not be referred, \"\" can be.]\n",
    "* '''...''' : \n",
    "    * refer the specific string (more than one lines) \n",
    "    * [You can use '' or \"\" in this string part]"
   ]
  },
  {
   "cell_type": "markdown",
   "metadata": {},
   "source": [
    "<h4 id=\"#Part0_1_3\">(3) ;</h4>"
   ]
  },
  {
   "cell_type": "markdown",
   "metadata": {},
   "source": [
    "* ; : use to make more than on commands on the one line"
   ]
  },
  {
   "cell_type": "code",
   "execution_count": 71,
   "metadata": {},
   "outputs": [
    {
     "name": "stdout",
     "output_type": "stream",
     "text": [
      "5\n",
      "5\n"
     ]
    }
   ],
   "source": [
    "i = 5\n",
    "print(i)\n",
    "# which is the same as follows:\n",
    "i = 5; print(i)"
   ]
  },
  {
   "cell_type": "markdown",
   "metadata": {},
   "source": [
    "<h4 id=\"#Part0_1_4\">(4) \\</h4>"
   ]
  },
  {
   "cell_type": "markdown",
   "metadata": {},
   "source": [
    "* \\\\: It has two meanings, one is escape sequence, and another is raw strings.\n",
    "\n",
    "    * escape sequence\n",
    "        * 1) \\n: represents a new line\n",
    "        * 2) \\t: (??? what's this?)\n",
    "        * 3) \\\\: make the original multiple lines to show in one line (Sometimes, the code was supposed to be finished in one line, but it is too much to be in one line, so we have to show it in multiple lines or it is better to show in multiple lines. In this case, we need to use this sign.\n",
    "        \n",
    "    * raw strings\n"
   ]
  },
  {
   "cell_type": "code",
   "execution_count": 72,
   "metadata": {},
   "outputs": [
    {
     "name": "stdout",
     "output_type": "stream",
     "text": [
      "This is the first line\n",
      "This is the second line\n"
     ]
    }
   ],
   "source": [
    "# escape sequence \\n\n",
    "print('This is the first line\\nThis is the second line')"
   ]
  },
  {
   "cell_type": "code",
   "execution_count": 73,
   "metadata": {},
   "outputs": [
    {
     "name": "stdout",
     "output_type": "stream",
     "text": [
      "This is the first line. This is the second line.\n"
     ]
    }
   ],
   "source": [
    "# escape sequence \\\n",
    "print(\"This is the first line. \\\n",
    "This is the second line.\")"
   ]
  },
  {
   "cell_type": "code",
   "execution_count": 74,
   "metadata": {},
   "outputs": [
    {
     "name": "stdout",
     "output_type": "stream",
     "text": [
      "Newlines are indicated by \\n\n"
     ]
    }
   ],
   "source": [
    "# raw strings (r / R)\n",
    "print(r\"Newlines are indicated by \\n\")"
   ]
  },
  {
   "cell_type": "markdown",
   "metadata": {},
   "source": [
    "<h3 id=\"#Part0_2\">2. Basic functions</h3>"
   ]
  },
  {
   "cell_type": "markdown",
   "metadata": {},
   "source": [
    "<h4 id=\"#Part0_2_1\">(1) format()</h4>"
   ]
  },
  {
   "cell_type": "markdown",
   "metadata": {},
   "source": [
    "* The format() method formats the specified value(s) and insert them inside the string's placeholder.\n",
    "\n",
    "* The placeholder is defined using curly brackets: {}. "
   ]
  },
  {
   "cell_type": "code",
   "execution_count": 33,
   "metadata": {},
   "outputs": [],
   "source": [
    "age = 20\n",
    "name = 'Swaroop'"
   ]
  },
  {
   "cell_type": "markdown",
   "metadata": {},
   "source": [
    "**Simpliy Insert value**\n",
    "\n",
    "* **Method 1**: No index\n",
    "    * Use \"empty { }s\" as placeholders\n",
    "    * Insert the values in the \"( )\" of \"{ }.format( )\" into the \"empty { }s\" in order"
   ]
  },
  {
   "cell_type": "code",
   "execution_count": 59,
   "metadata": {},
   "outputs": [
    {
     "name": "stdout",
     "output_type": "stream",
     "text": [
      "Why is Swaroop playing with that python?\n",
      "\n",
      "Swaroop was 20 years old when he wrote this book\n",
      "\n",
      "Swaroop years old means a lot to 20\n"
     ]
    }
   ],
   "source": [
    "print('Why is {} playing with that python?\\n'.format(name))\n",
    "\n",
    "print('{} was {} years old when he wrote this book\\n'.format(name, age))\n",
    "\n",
    "print('{} years old means a lot to {}'.format(name, age)) \n",
    "# Since we insert values in order, the last sentence becomes meaningless."
   ]
  },
  {
   "cell_type": "markdown",
   "metadata": {},
   "source": [
    "* **Method 2**: Number as index\n",
    "    * Use \"{ }s with numbers inside\" as placeholders (e.g.: {0}, {1}), the number inside is taken as an index\n",
    "    * Insert the values in the \"( )\" of \"{ }.format( )\" into the \"{ }s with numbers inside\" based on index, the first value corresponds to {0}, the second value corresponds to {1}, and so on.\n",
    "    \n",
    " **Note:** Start from **zero**!!!"
   ]
  },
  {
   "cell_type": "code",
   "execution_count": 47,
   "metadata": {},
   "outputs": [
    {
     "name": "stdout",
     "output_type": "stream",
     "text": [
      "Why is Swaroop playing with that python?\n",
      "\n",
      "Swaroop was 20 years old when he wrote this book\n",
      "\n",
      "20 years old means a lot to Swaroop\n"
     ]
    }
   ],
   "source": [
    "print('Why is {0} playing with that python?\\n'.format(name)) \n",
    "\n",
    "print('{0} was {1} years old when he wrote this book\\n'.format(name, age)) \n",
    "\n",
    "print('{1} years old means a lot to {0}'.format(name, age)) \n",
    "# Since we insert values by using number index, the last sentence becomes meaningful."
   ]
  },
  {
   "cell_type": "markdown",
   "metadata": {},
   "source": [
    "* **Method 3**: String as index\n",
    "    * Use \"{ }s with words inside\" as placeholders (e.g.: {name}, {book}), the word inside is taken as an index\n",
    "    * Insert the values in the \"( )\" of \"{ }.format( )\" into the \"{ }s with words inside\" based on index, the just like the dictionary."
   ]
  },
  {
   "cell_type": "code",
   "execution_count": 56,
   "metadata": {},
   "outputs": [
    {
     "name": "stdout",
     "output_type": "stream",
     "text": [
      "Swaroop wrote A Byte of Python\n"
     ]
    }
   ],
   "source": [
    "print('{name} wrote {book}'.format(name = 'Swaroop', book = 'A Byte of Python'))"
   ]
  },
  {
   "cell_type": "markdown",
   "metadata": {},
   "source": [
    "* **Method 4**: Dictionary as index (Literally it's still the same as method 3)\n",
    "    \n",
    "    It's the improved style of method 3, we just extract the dictionary inside the \"( )\" of \"{ }.format( )\" first before using the format() function.\n",
    "    \n",
    "    * Use \"{ }s with words inside\" as placeholders (e.g.: {name}, {book}), the word inside is taken as an index\n",
    "    * Insert the values in the \"( )\" of \"{ }.format( )\" into the \"{ }s with the dictionary."
   ]
  },
  {
   "cell_type": "code",
   "execution_count": 55,
   "metadata": {},
   "outputs": [
    {
     "name": "stdout",
     "output_type": "stream",
     "text": [
      "Website: programming tutorial, Address: www.runoob.com\n",
      "\n"
     ]
    }
   ],
   "source": [
    "site = {\"name\": \"programming tutorial\", \"url\": \"www.runoob.com\"}\n",
    "\n",
    "print(\"Website: {name}, Address: {url}\\n\".format(**site)) \n",
    "# Here, one * means it's a tuple, two ** means it's a dictionary"
   ]
  },
  {
   "cell_type": "markdown",
   "metadata": {},
   "source": [
    "* **Method 5**: List as index (Literally it's still the same as method 3 & 4)"
   ]
  },
  {
   "cell_type": "code",
   "execution_count": 58,
   "metadata": {},
   "outputs": [
    {
     "name": "stdout",
     "output_type": "stream",
     "text": [
      "Website: programming tutorial, Address: www.runoob.com\n",
      "\n"
     ]
    }
   ],
   "source": [
    "#   v) 通过列表索引设置参数\n",
    "my_list = ['programming tutorial', 'www.runoob.com']\n",
    "print(\"Website: {0[0]}, Address: {0[1]}\\n\".format(my_list))  # \"0\" is a must here"
   ]
  },
  {
   "cell_type": "markdown",
   "metadata": {},
   "source": [
    "* We can also use \"+\" to combine the strings without using format( ), but its drawback is obvious when we have lots of strings needed to be combined."
   ]
  },
  {
   "cell_type": "code",
   "execution_count": 37,
   "metadata": {},
   "outputs": [
    {
     "name": "stdout",
     "output_type": "stream",
     "text": [
      "Swaroopis20years old\n"
     ]
    }
   ],
   "source": [
    "# [Notes: use plus sign ('+') can also have the same effect (but obviously more complex)]\n",
    "print(name + 'is' + str(age) + 'years old')"
   ]
  },
  {
   "cell_type": "markdown",
   "metadata": {},
   "source": [
    "**Insert value - More difficult situation**\n",
    "\n",
    "* **Situation 1**: Insert Number with fixed type"
   ]
  },
  {
   "cell_type": "code",
   "execution_count": 63,
   "metadata": {},
   "outputs": [
    {
     "name": "stdout",
     "output_type": "stream",
     "text": [
      "0.333\n",
      "+0.333\n",
      "-0.333\n"
     ]
    }
   ],
   "source": [
    "# the number is rounded to three decimal places\n",
    "print('{0:.3f}'.format(1.0/3)) \n",
    "\n",
    "# the number is rounded to three decimal places & keep the \"negative or positive\" sign\n",
    "print('{0:+.3f}'.format(1.0/3)) \n",
    "\n",
    "print('{0:+.3f}'.format(-1.0/3)) "
   ]
  },
  {
   "cell_type": "markdown",
   "metadata": {},
   "source": [
    "* **Situation 2**: Insert some special signs with fixed type\n",
    "    * insert \"the special sign\" before \"^\" or \">\" or \"<\" to the string which is in the \"( ) of format( )\"\n",
    "        * \"^\": insert from both sides of the string, both left side and right side\n",
    "        * \">\": insert only from right side\n",
    "        * \"<\": insert only from left side"
   ]
  },
  {
   "cell_type": "code",
   "execution_count": 69,
   "metadata": {},
   "outputs": [
    {
     "name": "stdout",
     "output_type": "stream",
     "text": [
      "___hello___\n",
      "hello______\n",
      "______hello\n"
     ]
    }
   ],
   "source": [
    "# \"^\": insert from both sides\n",
    "print('{0:_^11}'.format('hello'))\n",
    "\n",
    "# \">\": insert only from right side\n",
    "print('{0:_<11}'.format('hello'))\n",
    "\n",
    "# \"<\": insert only from left side\n",
    "print('{0:_>11}'.format('hello'))"
   ]
  },
  {
   "cell_type": "markdown",
   "metadata": {},
   "source": [
    "* **Situation 2**: Insert some special signs with fixed type\n",
    "    * the alpha after \":\" represents different types of number system, base 10 (decimal), base 2 (binary)"
   ]
  },
  {
   "cell_type": "code",
   "execution_count": 70,
   "metadata": {},
   "outputs": [
    {
     "name": "stdout",
     "output_type": "stream",
     "text": [
      "1011\n",
      "11\n",
      "13\n",
      "b\n",
      "0xb\n",
      "0XB\n"
     ]
    }
   ],
   "source": [
    "#   iii) 表示进制 \n",
    "print('{:b}'.format(11))\n",
    "print('{:d}'.format(11))\n",
    "print('{:o}'.format(11))\n",
    "print('{:x}'.format(11))\n",
    "print('{:#x}'.format(11))\n",
    "print('{:#X}'.format(11))"
   ]
  },
  {
   "cell_type": "markdown",
   "metadata": {},
   "source": [
    "<h4 id=\"#Part0_2_2\">(2) print()</h4>"
   ]
  },
  {
   "cell_type": "code",
   "execution_count": 66,
   "metadata": {},
   "outputs": [
    {
     "name": "stdout",
     "output_type": "stream",
     "text": [
      "aba b c\n"
     ]
    }
   ],
   "source": [
    "# without a space\n",
    "print('a', end = '')\n",
    "print('b', end = '')\n",
    "# with a space\n",
    "print('a', end = ' ')\n",
    "print('b', end = ' ')\n",
    "print('c')"
   ]
  },
  {
   "cell_type": "markdown",
   "metadata": {},
   "source": [
    "<h4 id=\"#Part0_2_3\">(3) range()</h4>"
   ]
  },
  {
   "cell_type": "markdown",
   "metadata": {},
   "source": [
    "* range(a,b): generate [a, a+1, a+2, ..., b-1]\n",
    "* range(a,b,c): generate [a, a+c, a+2c, ..., a+nc(<= b-1)]\n",
    "\n",
    "But range shows one number on one time, so if you want to show all the numbers shown in this range, you have to use list"
   ]
  },
  {
   "cell_type": "code",
   "execution_count": 67,
   "metadata": {},
   "outputs": [
    {
     "name": "stdout",
     "output_type": "stream",
     "text": [
      "[1, 2, 3, 4]\n",
      "range(1, 5)\n"
     ]
    }
   ],
   "source": [
    "print(list(range(1,5)))\n",
    "print(range(1,5))"
   ]
  },
  {
   "cell_type": "markdown",
   "metadata": {},
   "source": [
    "<h4 id=\"#Part0_2_4\">(4) id()</h4>"
   ]
  },
  {
   "cell_type": "markdown",
   "metadata": {},
   "source": [
    "* what the usage of this function?\n",
    "* id() is to get the storage direction of this character"
   ]
  },
  {
   "cell_type": "code",
   "execution_count": 68,
   "metadata": {},
   "outputs": [
    {
     "name": "stdout",
     "output_type": "stream",
     "text": [
      "140264836560368\n",
      "4334315872\n"
     ]
    }
   ],
   "source": [
    "a = 'runoob'\n",
    "print(id(a))\n",
    "b = 1\n",
    "print(id(b))"
   ]
  },
  {
   "cell_type": "markdown",
   "metadata": {},
   "source": [
    "<h4 id=\"#Part0_2_5\">(5) functions in random package</h4>"
   ]
  },
  {
   "cell_type": "code",
   "execution_count": 43,
   "metadata": {},
   "outputs": [
    {
     "name": "stdout",
     "output_type": "stream",
     "text": [
      "1\n",
      "0.16821664991489804\n",
      "2.026160535358066\n",
      "r\n",
      "49\n"
     ]
    }
   ],
   "source": [
    "import random\n",
    "\n",
    "print(random.randint(1,10))        # generate a random integer between 1 and 10 \n",
    "print(random.random())             # generate a random float between 0 and 1\n",
    "print(random.uniform(1.1,5.4))     # generate a random float between 1.1 and 5.4\n",
    "print(random.choice('tomorrow'))   # pick a random element from the sequence \n",
    "print(random.randrange(1,100,2))   # generate a random integer from the list beginning from 1 to 100 with the step as 2 "
   ]
  },
  {
   "cell_type": "code",
   "execution_count": 44,
   "metadata": {},
   "outputs": [
    {
     "name": "stdout",
     "output_type": "stream",
     "text": [
      "[6, 5, 3, 7, 1]\n"
     ]
    }
   ],
   "source": [
    "a=[1,3,5,6,7]                # shuffle the order in list a \n",
    "random.shuffle(a)\n",
    "print(a)"
   ]
  },
  {
   "cell_type": "markdown",
   "metadata": {},
   "source": [
    "<h3 id=\"#Part0_3\">3. Basic regulations about naming variables</h3>"
   ]
  },
  {
   "cell_type": "markdown",
   "metadata": {},
   "source": [
    "In Python, we can use English character, numbers and _ to build our identifier, or in other words, to name variables. However, we can **not** use numbers to start a identifier.\n",
    "\n",
    "Besides, the identifiers starting with _ also have special meanings, we can not simpliy to use \"from ... import ....\" to import packages.\n",
    "\n",
    "What's more, if this identifiers starting with two _s, like \\__foo or \\__foo__, it's another special method to identify the vairables. We need to be careful with that.\n",
    "\n",
    "\n",
    "?? what if -y = 50 / 2y = 50 (2y is the variable name or means 2 multipled by y?)\n",
    "\n",
    "?? what if y = 2x - f (2x is the variable name or means 2 multipled by x?)"
   ]
  },
  {
   "cell_type": "markdown",
   "metadata": {},
   "source": [
    "<h2 id=\"#Part1\">Part 1. Python as a calculator</h2>\n",
    "<hr>"
   ]
  },
  {
   "cell_type": "markdown",
   "metadata": {},
   "source": [
    "<h3 id=\"#Part1_1\">1. Basic types of calculation</h3>"
   ]
  },
  {
   "cell_type": "markdown",
   "metadata": {},
   "source": [
    "<h4 id=\"#Part1_1_1\">(1) Addition: +</h4>"
   ]
  },
  {
   "cell_type": "code",
   "execution_count": 84,
   "metadata": {},
   "outputs": [
    {
     "name": "stdout",
     "output_type": "stream",
     "text": [
      "8\n",
      "ab\n"
     ]
    }
   ],
   "source": [
    "print(3 + 5)\n",
    "print('a' + 'b') # (link two strings)"
   ]
  },
  {
   "cell_type": "markdown",
   "metadata": {},
   "source": [
    "<h4 id=\"#Part1_1_2\">(2) Subtraction: -</h4>"
   ]
  },
  {
   "cell_type": "code",
   "execution_count": 85,
   "metadata": {},
   "outputs": [
    {
     "name": "stdout",
     "output_type": "stream",
     "text": [
      "3\n",
      "-5.2\n"
     ]
    }
   ],
   "source": [
    "print(10 - 7)\n",
    "print( - 5.2) # (if the first number is not shown, then set it as zero)"
   ]
  },
  {
   "cell_type": "markdown",
   "metadata": {},
   "source": [
    "<h4 id=\"#Part1_1_3\">(3) Multiplication: *</h4>"
   ]
  },
  {
   "cell_type": "code",
   "execution_count": 86,
   "metadata": {},
   "outputs": [
    {
     "name": "stdout",
     "output_type": "stream",
     "text": [
      "6\n",
      "lalala\n"
     ]
    }
   ],
   "source": [
    "print(2 * 3)\n",
    "print('la' * 3) # (repeat the first string)"
   ]
  },
  {
   "cell_type": "markdown",
   "metadata": {},
   "source": [
    "<h4 id=\"#Part1_1_4\">(4) Division: /</h4>"
   ]
  },
  {
   "cell_type": "code",
   "execution_count": 87,
   "metadata": {},
   "outputs": [
    {
     "name": "stdout",
     "output_type": "stream",
     "text": [
      "0.625\n",
      "4.333333333333333\n"
     ]
    }
   ],
   "source": [
    "print(5 / 8)\n",
    "print(13 / 3)"
   ]
  },
  {
   "cell_type": "markdown",
   "metadata": {},
   "source": [
    "<h4 id=\"#Part1_1_5\">(5) Exponentiation: **</h4>"
   ]
  },
  {
   "cell_type": "code",
   "execution_count": 88,
   "metadata": {},
   "outputs": [
    {
     "name": "stdout",
     "output_type": "stream",
     "text": [
      "8\n",
      "81\n"
     ]
    }
   ],
   "source": [
    "print(2 ** 3)\n",
    "print(3 ** 4) # (Remember: NOT '^' !!!)"
   ]
  },
  {
   "cell_type": "markdown",
   "metadata": {},
   "source": [
    "<h4 id=\"#Part1_1_6\">(6) Round down: //</h4>"
   ]
  },
  {
   "cell_type": "code",
   "execution_count": 89,
   "metadata": {},
   "outputs": [
    {
     "name": "stdout",
     "output_type": "stream",
     "text": [
      "4\n",
      "-5\n"
     ]
    }
   ],
   "source": [
    "print(13 // 3)\n",
    "print(-13 // 3)"
   ]
  },
  {
   "cell_type": "markdown",
   "metadata": {},
   "source": [
    "<h4 id=\"#Part1_1_7\">(7) Modulo: %</h4>"
   ]
  },
  {
   "cell_type": "code",
   "execution_count": 90,
   "metadata": {},
   "outputs": [
    {
     "name": "stdout",
     "output_type": "stream",
     "text": [
      "1\n",
      "1.5\n"
     ]
    }
   ],
   "source": [
    "print(13 % 3)\n",
    "print(-25.5 % 2.25)"
   ]
  },
  {
   "cell_type": "markdown",
   "metadata": {},
   "source": [
    "<h3 id=\"#Part1_2\">2. Special types of calculation (relevant to decimal system and Binary system)</h3>"
   ]
  },
  {
   "cell_type": "markdown",
   "metadata": {},
   "source": [
    "<h4 id=\"#Part1_2_1\">(1) Left move: <<</h4>"
   ]
  },
  {
   "cell_type": "code",
   "execution_count": 93,
   "metadata": {},
   "outputs": [
    {
     "name": "stdout",
     "output_type": "stream",
     "text": [
      "8\n"
     ]
    }
   ],
   "source": [
    "print(2 << 2)"
   ]
  },
  {
   "cell_type": "markdown",
   "metadata": {},
   "source": [
    "<h4 id=\"#Part1_2_2\">(2) Right move: >></h4>"
   ]
  },
  {
   "cell_type": "code",
   "execution_count": 94,
   "metadata": {},
   "outputs": [
    {
     "name": "stdout",
     "output_type": "stream",
     "text": [
      "5\n"
     ]
    }
   ],
   "source": [
    "print(11 >> 1)"
   ]
  },
  {
   "cell_type": "markdown",
   "metadata": {},
   "source": [
    "<h4 id=\"#Part1_2_3\">(3) Bitwise AND: &</h4>"
   ]
  },
  {
   "cell_type": "code",
   "execution_count": 96,
   "metadata": {},
   "outputs": [
    {
     "name": "stdout",
     "output_type": "stream",
     "text": [
      "1\n"
     ]
    }
   ],
   "source": [
    "print(5 & 3)"
   ]
  },
  {
   "cell_type": "markdown",
   "metadata": {},
   "source": [
    "<h4 id=\"#Part1_2_4\">(4) Bitwise OR: |</h4>"
   ]
  },
  {
   "cell_type": "code",
   "execution_count": 97,
   "metadata": {},
   "outputs": [
    {
     "name": "stdout",
     "output_type": "stream",
     "text": [
      "7\n"
     ]
    }
   ],
   "source": [
    "print(5 | 3)"
   ]
  },
  {
   "cell_type": "markdown",
   "metadata": {},
   "source": [
    "<h4 id=\"#Part1_2_5\">(5) Bitwise XOR: ^</h4>"
   ]
  },
  {
   "cell_type": "code",
   "execution_count": 98,
   "metadata": {},
   "outputs": [
    {
     "name": "stdout",
     "output_type": "stream",
     "text": [
      "6\n"
     ]
    }
   ],
   "source": [
    "print(5 ^ 3)"
   ]
  },
  {
   "cell_type": "markdown",
   "metadata": {},
   "source": [
    "<h4 id=\"#Part1_2_6\">(6) compl: ~</h4>"
   ]
  },
  {
   "cell_type": "code",
   "execution_count": 99,
   "metadata": {},
   "outputs": [
    {
     "name": "stdout",
     "output_type": "stream",
     "text": [
      "-6\n"
     ]
    }
   ],
   "source": [
    "print(~5)"
   ]
  },
  {
   "cell_type": "markdown",
   "metadata": {},
   "source": [
    "<h3 id=\"#Part1_3\">3. Special types of calculation (relevant to boolean variable)</h3>"
   ]
  },
  {
   "cell_type": "markdown",
   "metadata": {},
   "source": [
    "<h4 id=\"#Part1_3_1\">(1) Smaller than: <</h4>"
   ]
  },
  {
   "cell_type": "code",
   "execution_count": 100,
   "metadata": {},
   "outputs": [
    {
     "name": "stdout",
     "output_type": "stream",
     "text": [
      "False\n",
      "True\n"
     ]
    }
   ],
   "source": [
    "print(5 < 3)\n",
    "print(3 < 5)"
   ]
  },
  {
   "cell_type": "markdown",
   "metadata": {},
   "source": [
    "<h4 id=\"#Part1_3_2\">(2) Larger than: ></h4>"
   ]
  },
  {
   "cell_type": "code",
   "execution_count": 101,
   "metadata": {},
   "outputs": [
    {
     "name": "stdout",
     "output_type": "stream",
     "text": [
      "True\n",
      "False\n"
     ]
    }
   ],
   "source": [
    "print(5 > 3)\n",
    "print(3 > 5)"
   ]
  },
  {
   "cell_type": "markdown",
   "metadata": {},
   "source": [
    "<h4 id=\"#Part1_3_3\">(3) Smaller than or equal to: <=</h4>"
   ]
  },
  {
   "cell_type": "code",
   "execution_count": 102,
   "metadata": {},
   "outputs": [
    {
     "name": "stdout",
     "output_type": "stream",
     "text": [
      "False\n"
     ]
    }
   ],
   "source": [
    "x = 31; y = 6; print(x <= y)"
   ]
  },
  {
   "cell_type": "markdown",
   "metadata": {},
   "source": [
    "<h4 id=\"#Part1_3_4\">(4) Larger than or equal to: >=</h4>"
   ]
  },
  {
   "cell_type": "code",
   "execution_count": 103,
   "metadata": {},
   "outputs": [
    {
     "name": "stdout",
     "output_type": "stream",
     "text": [
      "True\n"
     ]
    }
   ],
   "source": [
    "a = 4; b = 3; print(a >= b)"
   ]
  },
  {
   "cell_type": "markdown",
   "metadata": {},
   "source": [
    "<h4 id=\"#Part1_3_5\">(5) Equal to: ==</h4>"
   ]
  },
  {
   "cell_type": "code",
   "execution_count": 104,
   "metadata": {},
   "outputs": [
    {
     "name": "stdout",
     "output_type": "stream",
     "text": [
      "True\n",
      "False\n",
      "True\n"
     ]
    }
   ],
   "source": [
    "# (!!! two equation signs!!!)\n",
    "m = 2; n = 2; print(m == n)\n",
    "r = 'str'; t = 'stR'; print(r == t)\n",
    "g = 'str'; x = 'str'; print(g == x)"
   ]
  },
  {
   "cell_type": "markdown",
   "metadata": {},
   "source": [
    "<h4 id=\"#Part1_3_6\">(6) Not equal to: !=</h4>"
   ]
  },
  {
   "cell_type": "code",
   "execution_count": 105,
   "metadata": {},
   "outputs": [
    {
     "name": "stdout",
     "output_type": "stream",
     "text": [
      "True\n"
     ]
    }
   ],
   "source": [
    "e = 2; s = 3; print(e != s)"
   ]
  },
  {
   "cell_type": "markdown",
   "metadata": {},
   "source": [
    "<h4 id=\"#Part1_3_7\">(7) Boolean Not: not</h4>"
   ]
  },
  {
   "cell_type": "code",
   "execution_count": 106,
   "metadata": {},
   "outputs": [
    {
     "name": "stdout",
     "output_type": "stream",
     "text": [
      "False\n"
     ]
    }
   ],
   "source": [
    "u = True; print(not u)"
   ]
  },
  {
   "cell_type": "markdown",
   "metadata": {},
   "source": [
    "<h4 id=\"#Part1_3_8\">(8) Boolean And: and</h4>"
   ]
  },
  {
   "cell_type": "code",
   "execution_count": 107,
   "metadata": {},
   "outputs": [
    {
     "name": "stdout",
     "output_type": "stream",
     "text": [
      "False\n"
     ]
    }
   ],
   "source": [
    "f = False; l = True; print(f and l)"
   ]
  },
  {
   "cell_type": "markdown",
   "metadata": {},
   "source": [
    "<h4 id=\"#Part1_3_9\">(9) Boolean Or: or</h4>"
   ]
  },
  {
   "cell_type": "code",
   "execution_count": 108,
   "metadata": {},
   "outputs": [
    {
     "name": "stdout",
     "output_type": "stream",
     "text": [
      "True\n"
     ]
    }
   ],
   "source": [
    "f = False; l = True; print(f or l)"
   ]
  },
  {
   "cell_type": "markdown",
   "metadata": {},
   "source": [
    "<h2 id=\"#Part2\">Part 2. Variables and Types</h2>\n",
    "<hr>"
   ]
  },
  {
   "cell_type": "markdown",
   "metadata": {},
   "source": [
    "To better calculate, we set variables as these numbers, so we can utilize those numbers only by calling variables names)"
   ]
  },
  {
   "cell_type": "markdown",
   "metadata": {},
   "source": [
    "<h3 id=\"#Part2_1\">1. Five different types of variables</h3>"
   ]
  },
  {
   "cell_type": "markdown",
   "metadata": {},
   "source": [
    "(1st step: set variables)\n",
    "\n",
    "(Notes: Literal Constants: contains both strings and numbers. 1) Numbers contains both integer and float; 2) Strings is the sequence of characters)"
   ]
  },
  {
   "cell_type": "markdown",
   "metadata": {},
   "source": [
    "<h4 id=\"#Part2_1_1\">(1) integer: int</h4>"
   ]
  },
  {
   "cell_type": "code",
   "execution_count": 2,
   "metadata": {},
   "outputs": [],
   "source": [
    "savings = 100"
   ]
  },
  {
   "cell_type": "markdown",
   "metadata": {},
   "source": [
    "<h4 id=\"#Part2_1_2\">(2) float: float (special: long, None)</h4>"
   ]
  },
  {
   "cell_type": "code",
   "execution_count": 3,
   "metadata": {},
   "outputs": [],
   "source": [
    "growth_multiplier = 1.1"
   ]
  },
  {
   "cell_type": "markdown",
   "metadata": {},
   "source": [
    "<h4 id=\"#Part2_1_3\">(3) string: str (special: unicode)</h4>"
   ]
  },
  {
   "cell_type": "code",
   "execution_count": 4,
   "metadata": {},
   "outputs": [],
   "source": [
    "desc = \"compound interest\""
   ]
  },
  {
   "cell_type": "markdown",
   "metadata": {},
   "source": [
    "<h4 id=\"#Part2_1_4\">(4) boolean: bool</h4>"
   ]
  },
  {
   "cell_type": "code",
   "execution_count": 5,
   "metadata": {},
   "outputs": [],
   "source": [
    "profitable = True"
   ]
  },
  {
   "cell_type": "markdown",
   "metadata": {},
   "source": [
    "<h4 id=\"#Part2_1_5\">(5) date</h4>"
   ]
  },
  {
   "cell_type": "code",
   "execution_count": 6,
   "metadata": {},
   "outputs": [
    {
     "name": "stdout",
     "output_type": "stream",
     "text": [
      "<class 'bool'>\n"
     ]
    }
   ],
   "source": [
    "# (Notes: we can use type() function to check the variable's type)\n",
    "print(type(profitable))"
   ]
  },
  {
   "cell_type": "markdown",
   "metadata": {},
   "source": [
    "<h3 id=\"#Part2_2\">2. Calculation among variables</h3>"
   ]
  },
  {
   "cell_type": "markdown",
   "metadata": {},
   "source": [
    "2nd step: calculate with variables we set)"
   ]
  },
  {
   "cell_type": "markdown",
   "metadata": {},
   "source": [
    "<h4 id=\"#Part2_2_1\">(1) among numericals (integer or float)</h4>"
   ]
  },
  {
   "cell_type": "code",
   "execution_count": 10,
   "metadata": {},
   "outputs": [
    {
     "name": "stdout",
     "output_type": "stream",
     "text": [
      "194.87171000000012\n"
     ]
    }
   ],
   "source": [
    "result = savings * (growth_multiplier ** 7)\n",
    "\n",
    "print(result)"
   ]
  },
  {
   "cell_type": "markdown",
   "metadata": {},
   "source": [
    "<h4 id=\"#Part2_2_2\">(2) among strings</h4>"
   ]
  },
  {
   "cell_type": "code",
   "execution_count": 11,
   "metadata": {},
   "outputs": [
    {
     "name": "stdout",
     "output_type": "stream",
     "text": [
      "compound interestcompound interest\n"
     ]
    }
   ],
   "source": [
    "doubledesc = desc + desc\n",
    "\n",
    "print(doubledesc)"
   ]
  },
  {
   "cell_type": "markdown",
   "metadata": {},
   "source": [
    "<h3 id=\"#Part2_3\">3. Transformation between different types of variables</h3>"
   ]
  },
  {
   "cell_type": "markdown",
   "metadata": {},
   "source": [
    "3rd step: change the type of variable"
   ]
  },
  {
   "cell_type": "markdown",
   "metadata": {},
   "source": [
    "<h4 id=\"#Part2_3_1\">(1) str()</h4>"
   ]
  },
  {
   "cell_type": "markdown",
   "metadata": {},
   "source": [
    "* str(  ): change the numeric(int/float) to str"
   ]
  },
  {
   "cell_type": "code",
   "execution_count": 12,
   "metadata": {},
   "outputs": [
    {
     "name": "stdout",
     "output_type": "stream",
     "text": [
      "I started with $100 and now have $194.87171000000012. Awesome!\n",
      "I started with $ 100  and now have $ 194.87171000000012 . Awesome!\n"
     ]
    }
   ],
   "source": [
    "print(\"I started with $\" + str(savings) + \" and now have $\" + str(result) + \". Awesome!\")\n",
    "\n",
    "print(\"I started with $\", savings, \" and now have $\", result, \". Awesome!\") \n",
    "# (if don't want to change the mode, then use \",\" to replace \"+\")"
   ]
  },
  {
   "cell_type": "markdown",
   "metadata": {},
   "source": [
    "<h4 id=\"#Part2_3_2\">(2) int() / float()</h4>"
   ]
  },
  {
   "cell_type": "markdown",
   "metadata": {},
   "source": [
    "* int( ) / float( ): change the string to numeric(int/float)"
   ]
  },
  {
   "cell_type": "code",
   "execution_count": 13,
   "metadata": {},
   "outputs": [
    {
     "name": "stdout",
     "output_type": "stream",
     "text": [
      "3.1415926\n"
     ]
    }
   ],
   "source": [
    "pi_string = \"3.1415926\"\n",
    "\n",
    "pi_float = float(pi_string)\n",
    "\n",
    "print(pi_float)"
   ]
  },
  {
   "cell_type": "markdown",
   "metadata": {},
   "source": [
    "<h2 id=\"#Part3\">Part 3. Control Flow Statement</h2>\n",
    "<hr>"
   ]
  },
  {
   "cell_type": "markdown",
   "metadata": {},
   "source": [
    "<h3 id=\"#Part3_1\">1. three types of control flow statements</h3>"
   ]
  },
  {
   "cell_type": "markdown",
   "metadata": {},
   "source": [
    "<h4 id=\"#Part3_1_1\">(1) 'if' statement</h4>"
   ]
  },
  {
   "cell_type": "code",
   "execution_count": null,
   "metadata": {},
   "outputs": [],
   "source": [
    "number = 23\n",
    "guess = int(input('Enter an integer : '))\n",
    "\n",
    "if guess == number:\n",
    "    print('Congratulations, you guessed it.')\n",
    "    print('(but you do not win any prized)')\n",
    "elif guess < number:\n",
    "    print('No, it it a little higher than that.')\n",
    "else:\n",
    "    print('No, it is a little lower than that.')\n",
    "print('Done')"
   ]
  },
  {
   "cell_type": "markdown",
   "metadata": {},
   "source": [
    "<h4 id=\"#Part3_1_2\">(2) 'while' statement</h4>"
   ]
  },
  {
   "cell_type": "code",
   "execution_count": null,
   "metadata": {},
   "outputs": [],
   "source": [
    "number = 23\n",
    "running = True\n",
    "\n",
    "while running:\n",
    "    guess = int(input('Enter an integer : '))\n",
    "    \n",
    "    if guess == number:\n",
    "        print('Congratulations, you guessed it.')\n",
    "        running = False\n",
    "    elif guess < number:\n",
    "        print('No, it is a little higher than that.')\n",
    "    else:\n",
    "        print('No, it is a little lower than that.')\n",
    "else:\n",
    "    print('The while loop is over.')\n",
    "\n",
    "print('Done')"
   ]
  },
  {
   "cell_type": "markdown",
   "metadata": {},
   "source": [
    "<h4 id=\"#Part3_1_3\">(3) 'for' statement</h4>"
   ]
  },
  {
   "cell_type": "code",
   "execution_count": 11,
   "metadata": {},
   "outputs": [
    {
     "name": "stdout",
     "output_type": "stream",
     "text": [
      "1\n",
      "2\n",
      "3\n",
      "4\n",
      "The for loop is over\n"
     ]
    }
   ],
   "source": [
    "for i in range(1,5):\n",
    "    print(i)\n",
    "else:\n",
    "    print('The for loop is over')"
   ]
  },
  {
   "cell_type": "markdown",
   "metadata": {},
   "source": [
    "<h3 id=\"#Part3_2\">2. Three types of statements used in the three types of control flow statements above</h3>"
   ]
  },
  {
   "cell_type": "markdown",
   "metadata": {},
   "source": [
    "There are three types of statements used in the three types of control flow statements above, which are respectively:\n",
    "\n",
    "* (1) 'break' statement\n",
    "* (2) 'continue' statement\n",
    "* (3) 'pass' statement\n",
    "\n",
    "\n",
    "**Notes:** the difference between these three statements:\n",
    "\n",
    "* **1)'continue' statement:** skips all the statements after itself (loop_A i) and restart a new loop (loop_A i+1), which means that we still use 'while' or 'for' loop but use a new number;\n",
    "\n",
    "* **2)'pass' statement:** is only used as a placeholder，statements after it in a loop can still be executed;\n",
    "\n",
    "* **3)'break' statement:** skips all the statements after itself (loop_A i) and stop running this loop(entire loop_A), which means that we just don't execute anything in the 'while' or 'for' loop)"
   ]
  },
  {
   "cell_type": "markdown",
   "metadata": {},
   "source": [
    "<h4 id=\"#Part3_2_1\">(1) 'pass' statement</h4>"
   ]
  },
  {
   "cell_type": "markdown",
   "metadata": {},
   "source": [
    "* 'pass' statement: only placeholder, still execute statements in the loop"
   ]
  },
  {
   "cell_type": "code",
   "execution_count": 14,
   "metadata": {},
   "outputs": [
    {
     "name": "stdout",
     "output_type": "stream",
     "text": [
      "p2\n",
      "t3\n",
      "h3\n",
      "o3\n",
      "n3\n"
     ]
    }
   ],
   "source": [
    "a = 'pythyon'\n",
    "i = 2\n",
    "for element in a:\n",
    "    if element == 'y':\n",
    "        pass\n",
    "        i = 3\n",
    "    else:\n",
    "        print(element+str(i))"
   ]
  },
  {
   "cell_type": "markdown",
   "metadata": {},
   "source": [
    "<h4 id=\"#Part3_2_2\">(2) 'continue' statement</h4>"
   ]
  },
  {
   "cell_type": "markdown",
   "metadata": {},
   "source": [
    "* 'continue' statement: stronger than 'pass', but less stronger than 'break', skip the following statements, and restart a new loop."
   ]
  },
  {
   "cell_type": "code",
   "execution_count": 15,
   "metadata": {},
   "outputs": [
    {
     "name": "stdout",
     "output_type": "stream",
     "text": [
      "p2\n",
      "t2\n",
      "h2\n",
      "o2\n",
      "n2\n"
     ]
    }
   ],
   "source": [
    "#   b). \n",
    "a = 'pythyon'\n",
    "i = 2\n",
    "for element in a:\n",
    "    if element == 'y':\n",
    "        continue\n",
    "        i = 3\n",
    "    else:\n",
    "        print(element+str(i))"
   ]
  },
  {
   "cell_type": "code",
   "execution_count": 18,
   "metadata": {},
   "outputs": [
    {
     "name": "stdout",
     "output_type": "stream",
     "text": [
      "Enter something : quit\n"
     ]
    }
   ],
   "source": [
    "#  another example of'continue' statement\n",
    "while True:\n",
    "    s = input('Enter something : ')\n",
    "    if s == 'quit':\n",
    "        break\n",
    "    if len(s) < 3:\n",
    "        print('Too small')\n",
    "        continue\n",
    "    print('Input is of sufficient length')\n",
    "# (Notes: We can use 'Continue' to skip the remaining statements, or the remaining statments will be executed.)\n",
    "# how to understand??? skip how many steps???"
   ]
  },
  {
   "cell_type": "markdown",
   "metadata": {},
   "source": [
    "<h4 id=\"#Part3_2_3\">(3) 'break' statement</h4>"
   ]
  },
  {
   "cell_type": "markdown",
   "metadata": {},
   "source": [
    "* 'break' statement: most strongest statements, stop running the loop"
   ]
  },
  {
   "cell_type": "code",
   "execution_count": 19,
   "metadata": {},
   "outputs": [
    {
     "name": "stdout",
     "output_type": "stream",
     "text": [
      "p2\n"
     ]
    }
   ],
   "source": [
    "a = 'pythyon'\n",
    "i = 2\n",
    "for element in a:\n",
    "    if element == 'y':\n",
    "        break\n",
    "        i = 3\n",
    "    else:\n",
    "        print(element+str(i)) "
   ]
  },
  {
   "cell_type": "code",
   "execution_count": 20,
   "metadata": {},
   "outputs": [
    {
     "name": "stdout",
     "output_type": "stream",
     "text": [
      "Enter something : quit\n",
      "Done\n"
     ]
    }
   ],
   "source": [
    "#  another example of'break' statement\n",
    "while True: # how to understand 'True' here???\n",
    "    s = input('Enter something : ')\n",
    "    if s == 'quit':\n",
    "        break\n",
    "    print('Length of the string is', len(s))\n",
    "print('Done')\n",
    "# (Notes: if you break one 'for' / 'while' statement, all the 'else' module will not be executed.)\n",
    "\n",
    "# ???Difference between break and end???"
   ]
  },
  {
   "cell_type": "markdown",
   "metadata": {},
   "source": [
    "<h4 id=\"#Part3_2_4\">(3) 'return' statement (*)</h4>"
   ]
  },
  {
   "cell_type": "markdown",
   "metadata": {},
   "source": [
    "**Note:**\n",
    "If there is nothing behind return, that means 'return None'\n",
    "\n",
    "??what's the difference between 'return' and 'print' (return just turn back to one value, but no need to print it our)"
   ]
  },
  {
   "cell_type": "code",
   "execution_count": 21,
   "metadata": {},
   "outputs": [
    {
     "name": "stdout",
     "output_type": "stream",
     "text": [
      "3\n"
     ]
    }
   ],
   "source": [
    "# (2). 'return' statement\n",
    "def maximum(x, y):\n",
    "    if x > y:\n",
    "        return x\n",
    "    elif x == y:\n",
    "        return 'The numbers are equal'\n",
    "    else:\n",
    "        return y\n",
    "print(maximum(2, 3))\n"
   ]
  },
  {
   "cell_type": "markdown",
   "metadata": {},
   "source": [
    "<h2 id=\"#Part4\">Part 4. Functions</h2>\n",
    "<hr>"
   ]
  },
  {
   "cell_type": "markdown",
   "metadata": {},
   "source": [
    "Definition: function is a slice of codes which can be used repeatedly. You can give this function a specific name, and call this function at any places via its name"
   ]
  },
  {
   "cell_type": "markdown",
   "metadata": {},
   "source": [
    "<h3 id=\"#Part4_1\">1. Basic Approach to use function</h3>"
   ]
  },
  {
   "cell_type": "markdown",
   "metadata": {},
   "source": [
    "<h4 id=\"#Part4_1_1\">(1) function without parameters</h4>"
   ]
  },
  {
   "cell_type": "code",
   "execution_count": 23,
   "metadata": {},
   "outputs": [
    {
     "name": "stdout",
     "output_type": "stream",
     "text": [
      "hello world\n"
     ]
    }
   ],
   "source": [
    "#  1) step1: define a function\n",
    "def say_hello(): # you can put parameters in (), which is mentioned as below\n",
    "    print('hello world')"
   ]
  },
  {
   "cell_type": "code",
   "execution_count": null,
   "metadata": {},
   "outputs": [],
   "source": [
    "#  2) step2: call this function\n",
    "say_hello()"
   ]
  },
  {
   "cell_type": "markdown",
   "metadata": {},
   "source": [
    "<h4 id=\"#Part4_1_2\">(2) function with parameters</h4>"
   ]
  },
  {
   "cell_type": "code",
   "execution_count": 24,
   "metadata": {},
   "outputs": [
    {
     "name": "stdout",
     "output_type": "stream",
     "text": [
      "4 is maximum\n",
      "7 is maximum\n"
     ]
    }
   ],
   "source": [
    "#  1) step1: define a function\n",
    "def print_max(a, b):\n",
    "    if a > b:\n",
    "        print(a, 'is maximum')\n",
    "    elif a == b:\n",
    "        print(a, 'is equal to', b)\n",
    "    else:\n",
    "        print(b, 'is maximum')"
   ]
  },
  {
   "cell_type": "code",
   "execution_count": null,
   "metadata": {},
   "outputs": [],
   "source": [
    "#  2) step2: call this function\n",
    "print_max(3, 4)\n",
    "\n",
    "#  or use parameters to transfer variables\n",
    "x = 5\n",
    "y = 7\n",
    "print_max(5,7)"
   ]
  },
  {
   "cell_type": "markdown",
   "metadata": {},
   "source": [
    "<h3 id=\"#Part4_2\">2. Local Variables & Global Variables</h3>"
   ]
  },
  {
   "cell_type": "markdown",
   "metadata": {},
   "source": [
    "<h4 id=\"#Part4_2_1\">(1) Local Variables</h4>"
   ]
  },
  {
   "cell_type": "code",
   "execution_count": 25,
   "metadata": {},
   "outputs": [
    {
     "name": "stdout",
     "output_type": "stream",
     "text": [
      "x is 50\n",
      "Changed local x to 2\n",
      "x is still 50\n"
     ]
    }
   ],
   "source": [
    "x = 50\n",
    "\n",
    "#  1) step1: define a function\n",
    "def func(x):\n",
    "    print('x is', x)\n",
    "    x = 2\n",
    "    print('Changed local x to', x)"
   ]
  },
  {
   "cell_type": "code",
   "execution_count": null,
   "metadata": {},
   "outputs": [],
   "source": [
    "#  2) step2: call this function\n",
    "func(x)\n",
    "\n",
    "print('x is still', x) # function doesn't change the value of x"
   ]
  },
  {
   "cell_type": "markdown",
   "metadata": {},
   "source": [
    "<h4 id=\"#Part4_2_2\">(1) Global Variables</h4>"
   ]
  },
  {
   "cell_type": "code",
   "execution_count": 26,
   "metadata": {},
   "outputs": [
    {
     "name": "stdout",
     "output_type": "stream",
     "text": [
      "x is 50\n",
      "Changed global x to 2\n",
      "Value of x is 2\n"
     ]
    }
   ],
   "source": [
    "x = 50\n",
    "\n",
    "#  1) step1: define a function\n",
    "def func(): #??? why there is no x in () in this function???\n",
    "    global x # you can declare many variables to be global (like: global x, y, z)\n",
    "    \n",
    "    print('x is', x)\n",
    "    x = 2\n",
    "    print('Changed global x to', x)"
   ]
  },
  {
   "cell_type": "code",
   "execution_count": null,
   "metadata": {},
   "outputs": [],
   "source": [
    "#  2) step2: call this function\n",
    "func()\n",
    "\n",
    "print('Value of x is', x) # function changes the value of x"
   ]
  },
  {
   "cell_type": "markdown",
   "metadata": {},
   "source": [
    "<h3 id=\"#Part4_3\">3. Default value  & Keyword Arguments</h3>"
   ]
  },
  {
   "cell_type": "markdown",
   "metadata": {},
   "source": [
    "<h4 id=\"#Part4_3_1\">(1) Default value</h4>"
   ]
  },
  {
   "cell_type": "markdown",
   "metadata": {},
   "source": [
    "**Notes:**\n",
    "* 1) only the last variables of the function can set default value;\n",
    "* 2) the variables with default value can **not** be located before the variables without default value, which means that you can only define 'say(message, times = 1)', but **cannot** define 'say(times = 1, message)')"
   ]
  },
  {
   "cell_type": "code",
   "execution_count": 40,
   "metadata": {},
   "outputs": [],
   "source": [
    "#  1) step1: define a function\n",
    "def say(message, times = 1):\n",
    "    print(message * times)"
   ]
  },
  {
   "cell_type": "code",
   "execution_count": 42,
   "metadata": {},
   "outputs": [
    {
     "name": "stdout",
     "output_type": "stream",
     "text": [
      "Hello\n",
      "None\n",
      "worldworldworldworldworld\n",
      "None\n"
     ]
    }
   ],
   "source": [
    "#  2) step2: call this function\n",
    "# Not change the default value\n",
    "print(say('Hello'))\n",
    "\n",
    "# change the default value\n",
    "print(say('world', 5))"
   ]
  },
  {
   "cell_type": "markdown",
   "metadata": {},
   "source": [
    "<h4 id=\"#Part4_3_1\">(1) Keyword Arguments</h4>"
   ]
  },
  {
   "cell_type": "code",
   "execution_count": 38,
   "metadata": {},
   "outputs": [],
   "source": [
    "#  1) step1: define a function\n",
    "def func(a, b = 5, c = 10):\n",
    "    print('a is', a, 'and b is', b, 'and c is', c)"
   ]
  },
  {
   "cell_type": "code",
   "execution_count": 39,
   "metadata": {},
   "outputs": [
    {
     "name": "stdout",
     "output_type": "stream",
     "text": [
      "a is 3 and b is 7 and c is 10\n",
      "None\n",
      "a is 25 and b is 5 and c is 24\n",
      "None\n",
      "a is 100 and b is 5 and c is 50\n",
      "None\n"
     ]
    }
   ],
   "source": [
    "#  2) step2: call this function\n",
    "print(func(3, 7))\n",
    "print(func(25, c = 24))\n",
    "print(func(c = 50, a = 100)) "
   ]
  },
  {
   "cell_type": "markdown",
   "metadata": {},
   "source": [
    "<h3 id=\"#Part4_4\">4. Changeable Parameters</h3>"
   ]
  },
  {
   "cell_type": "markdown",
   "metadata": {},
   "source": [
    "Use star sign to represent.\n",
    "\n",
    "* one star means one tuple \n",
    "* two stars means one dictionary "
   ]
  },
  {
   "cell_type": "code",
   "execution_count": 36,
   "metadata": {},
   "outputs": [],
   "source": [
    "#  1) step1: define a function\n",
    "def total(a = 5, *numbers, **phonebook):\n",
    "    print('a', a)\n",
    "    \n",
    "    for single_item in numbers:\n",
    "        print('single_item', single_item)\n",
    "    \n",
    "    for first_part, second_part in phonebook.items():\n",
    "        print(first_part, second_part)"
   ]
  },
  {
   "cell_type": "code",
   "execution_count": 37,
   "metadata": {},
   "outputs": [
    {
     "name": "stdout",
     "output_type": "stream",
     "text": [
      "a 10\n",
      "single_item 1\n",
      "single_item 2\n",
      "single_item 3\n",
      "Jack 1123\n",
      "John 2231\n",
      "Inge 1560\n",
      "None\n"
     ]
    }
   ],
   "source": [
    "#  2) step2: call this function\n",
    "print(total(10, 1, 2, 3, Jack = 1123, John = 2231, Inge = 1560))"
   ]
  },
  {
   "cell_type": "markdown",
   "metadata": {},
   "source": [
    "<h3 id=\"#Part4_5\">5. Documentation Strings (DocStrings)</h3>"
   ]
  },
  {
   "cell_type": "code",
   "execution_count": 30,
   "metadata": {},
   "outputs": [
    {
     "name": "stdout",
     "output_type": "stream",
     "text": [
      "5 is maximum\n",
      "Print the maximum of two numbers.\n",
      "    The two values must be integers.\n"
     ]
    }
   ],
   "source": [
    "#  1) step1: define a function\n",
    "def print_max(x, y):\n",
    "    '''Print the maximum of two numbers.\n",
    "    The two values must be integers.'''\n",
    "    x = int(x)\n",
    "    y = int(y)\n",
    "    \n",
    "    if x > y:\n",
    "        print(x, 'is maximum')\n",
    "    else:\n",
    "        print(y, 'is maximum')"
   ]
  },
  {
   "cell_type": "code",
   "execution_count": null,
   "metadata": {},
   "outputs": [],
   "source": [
    "print_max(3, 5)\n",
    "print(print_max.__doc__) # Note: here has two '_' !!!"
   ]
  },
  {
   "cell_type": "markdown",
   "metadata": {},
   "source": [
    "<h2 id=\"#Part5\">Part 5. Modules & Packages</h2>\n",
    "<hr>"
   ]
  },
  {
   "cell_type": "markdown",
   "metadata": {},
   "source": [
    "This part is kind of difficult, what is exactly the module? What the differenct between modules and packages? What's the applications?\n",
    "\n",
    "It seems like module is just a \".py\" file, what does this mean?\n",
    "\n",
    "https://www.runoob.com/python/python-object.html\n"
   ]
  },
  {
   "cell_type": "markdown",
   "metadata": {},
   "source": [
    "<h3 id=\"#Part5_1\">1. Modules</h3>"
   ]
  },
  {
   "cell_type": "code",
   "execution_count": 31,
   "metadata": {},
   "outputs": [
    {
     "name": "stdout",
     "output_type": "stream",
     "text": [
      "The command line arguments are:\n",
      "/Users/qingyuesu/opt/anaconda3/lib/python3.8/site-packages/ipykernel_launcher.py\n",
      "-f\n",
      "/Users/qingyuesu/Library/Jupyter/runtime/kernel-6c151aef-6313-476e-80af-9589b59d9af6.json\n",
      "\n",
      "\n",
      "The PYTHONPATH is ['/Users/qingyuesu', '/Users/qingyuesu/opt/anaconda3/lib/python38.zip', '/Users/qingyuesu/opt/anaconda3/lib/python3.8', '/Users/qingyuesu/opt/anaconda3/lib/python3.8/lib-dynload', '', '/Users/qingyuesu/opt/anaconda3/lib/python3.8/site-packages', '/Users/qingyuesu/opt/anaconda3/lib/python3.8/site-packages/aeosa', '/Users/qingyuesu/opt/anaconda3/lib/python3.8/site-packages/IPython/extensions', '/Users/qingyuesu/.ipython'] \n",
      "\n"
     ]
    }
   ],
   "source": [
    "# (1) common import approach\n",
    "\n",
    "import sys\n",
    "\n",
    "print('The command line arguments are:')\n",
    "for i in sys.argv:\n",
    "    print(i)\n",
    "    \n",
    "print('\\n\\nThe PYTHONPATH is', sys.path, '\\n')\n",
    "#??? Don't understand the meaning here!"
   ]
  },
  {
   "cell_type": "code",
   "execution_count": 32,
   "metadata": {},
   "outputs": [
    {
     "name": "stdout",
     "output_type": "stream",
     "text": [
      "Square root of 16 is 4.0\n"
     ]
    }
   ],
   "source": [
    "# (2) from ... import ...\n",
    "\n",
    "from math import sqrt\n",
    "print('Square root of 16 is', sqrt(16))\n",
    "# the benefit of this method is that you can use 'sqrt()' without print math, which is 'math.sqrt()'"
   ]
  },
  {
   "cell_type": "code",
   "execution_count": 33,
   "metadata": {},
   "outputs": [
    {
     "name": "stdout",
     "output_type": "stream",
     "text": [
      "This program is being run by itself\n"
     ]
    }
   ],
   "source": [
    "# (3) __name__\n",
    "\n",
    "if __name__ == '__main__':\n",
    "    print('This program is being run by itself')\n",
    "else:\n",
    "    print('I am being imported from another module')"
   ]
  },
  {
   "cell_type": "code",
   "execution_count": 34,
   "metadata": {},
   "outputs": [],
   "source": [
    "# (4) build your own modules\n",
    "\n",
    "def say_hi():\n",
    "    print('Hi, this is mymodule speaking.')\n",
    "    \n",
    "__version__ = '0.1' #Although it is some value inside the system, you still can change its default value."
   ]
  },
  {
   "cell_type": "code",
   "execution_count": null,
   "metadata": {},
   "outputs": [],
   "source": []
  },
  {
   "cell_type": "code",
   "execution_count": null,
   "metadata": {},
   "outputs": [],
   "source": []
  },
  {
   "cell_type": "code",
   "execution_count": null,
   "metadata": {},
   "outputs": [],
   "source": []
  },
  {
   "cell_type": "code",
   "execution_count": null,
   "metadata": {},
   "outputs": [],
   "source": []
  }
 ],
 "metadata": {
  "kernelspec": {
   "display_name": "Python 3",
   "language": "python",
   "name": "python3"
  },
  "language_info": {
   "codemirror_mode": {
    "name": "ipython",
    "version": 3
   },
   "file_extension": ".py",
   "mimetype": "text/x-python",
   "name": "python",
   "nbconvert_exporter": "python",
   "pygments_lexer": "ipython3",
   "version": "3.8.3"
  }
 },
 "nbformat": 4,
 "nbformat_minor": 2
}
